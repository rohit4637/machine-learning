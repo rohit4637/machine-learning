{
 "cells": [
  {
   "cell_type": "markdown",
   "metadata": {
    "id": "oEGzAwKasgjq"
   },
   "source": [
    "\n",
    "# Exploratory Data Analysis"
   ]
  },
  {
   "cell_type": "markdown",
   "metadata": {
    "id": "QRClmAxnsgjq"
   },
   "source": [
    "## Table of Contents\n",
    "\n",
    "1. [Introduction](#section1)<br>\n",
    "2. [Problem statement](#section2)\n",
    "3. [Importing dependencies](#section3)\n",
    "4. [Data Loading and Description](#section)\n",
    "5. [Data Profiling](#section3)\n",
    "    - 5.1   [Understanding the Dataset](#section301)<br/>\n",
    "    - 5.2   [Pre Profiling](#section302)<br/>\n",
    "    - 5.3   [Preprocessing](#section303)<br/>\n",
    "    - 5.4   [Post Profiling](#section304)<br/>\n",
    "6. [Questions](#section6)\n",
    "    - 6.1.  [What was the demographic structure of Titanic passengers?](#section601)<br/>\n",
    "    - 6.2.  [What is the survival ratio of Titanic passengers?](#section602)<br/>\n",
    "    - 6.3.  [Who is more likely to survive Man, Woman or Children?](#section603)<br/>\n",
    "    - 6.4.  [What is the rate of survival of man, woman and children on the basis of Ticket Class?](#section604)<br/>\n",
    "    - 6.5.  [How is age related to Ticket_Class?](#section605)<br/>\n",
    "    - 6.6.  [How fare is related to Age, Class and Port of Embarkation?](#section606)<br/>\n",
    "    - 6.7.  [What is the survival rate considering the Embarked variable?](#section607)<br/>\n",
    "    - 6.8.  [Survival rate - Comparing Embarked and Sex.](#section608)<br/>\n",
    "    - 6.9.  [How survival rate vary with Embarked, Sex and Ticket_Class?](#section609)<br/>\n",
    "    - 6.10. [Segment age in bins with size 10.](#section610)<br/>\n",
    "    - 6.11. [Analysing SibSp and Parch variable.](#section611)<br/>\n",
    "    - 6.12. [Segment fare in bins of size 12.](#section612)<br/>\n",
    "    - 6.13. [Draw pair plot to know the joint relationship between 'Fare','Age','Ticket_Class' and 'Survived'](#section613)<br/>\n",
    "    - 6.14. [Establish coorelation between all the features using heatmap.](#section614)<br/>\n",
    "    - 6.15. [Hypothesis: Women and children are more likely to survive](#section615)<br/>\n",
    "7. [Conclusions](#section7)<br/>  "
   ]
  },
  {
   "cell_type": "markdown",
   "metadata": {
    "id": "M_6Q-TtZsgjr"
   },
   "source": [
    "<a id=section1></a>\n",
    "### 1. Introduction \n",
    "\n",
    "<center><img src=\"https://raw.githubusercontent.com/insaid2018/Term-2/master/images/titanic-body.jpg\" width=\"600\" height=\"300\" /></center>\n",
    "<br> \n",
    "\n",
    "- The sinking of the RMS Titanic in the early morning of __15 April 1912, four days into the ship's maiden voyage__ from __Southampton to New York City__, was one of the deadliest peacetime maritime disasters in history, __killing__ more \n",
    "than **1,500 people**. \n",
    "\n",
    "- The largest passenger liner in service at the time, Titanic had an __estimated 2,224 people on board__ when she struck an __iceberg in the North Atlantic__. \n",
    "\n",
    "- The ship had received __six warnings__ of sea ice but was travelling at near __maximum speed when the lookouts sighted the iceberg__. \n",
    "\n",
    "<br> \n",
    "<center><img src=\"https://raw.githubusercontent.com/insaid2018/Term-2/master/images/source.gif\" width=\"500\" height=\"300\" /></center>\n",
    "<br> \n",
    "\n",
    "- __Unable to turn quickly enough__, the ship suffered a glancing blow that buckled the starboard (right) side and opened __five of sixteen compartments to the sea__. \n",
    "\n",
    "- The disaster caused widespread outrage over the lack of lifeboats, lax regulations, and the __unequal treatment__ of the three passenger classes __during the evacuation__. \n",
    "\n",
    "- Inquiries recommended sweeping changes to maritime regulations, leading to the __International Convention for the Safety of Life at Sea (1914)__, which continues to govern maritime safety.\n",
    "\n"
   ]
  },
  {
   "cell_type": "markdown",
   "metadata": {
    "id": "vmCIWIK0sgjs"
   },
   "source": [
    "<a id=section1></a>\n",
    "### 2. Problem Statement\n",
    "\n",
    "- On __April 15, 1912__, the largest passenger liner ever made collided with an __iceberg__ during her maiden voyage. \n",
    "\n",
    "- When the __Titanic sank it killed 1502 out of 2224 passengers and crew__.\n",
    "\n",
    "- This __sensational__ tragedy shocked the international community and led to better safety regulations for **ships**. \n",
    "\n",
    "- One of the reasons that the **shipwreck** resulted in such loss of life was that there were **not enough lifeboats** for the passengers and crew. \n",
    "\n",
    "- Although there was some element of luck involved in surviving the sinking, some groups of people were more likely to survive than others such as **women, children, and the upper-class.**\n",
    "\n",
    "<br> \n",
    "<center><img src=\"https://raw.githubusercontent.com/insaid2018/Term-2/master/images/anigif_sub-buzz-2417-1580340238-6.gif\" width=\"600\" height=\"360\" /></center>\n",
    "<br> \n",
    "\n",
    "- The **`titanic.csv`** file contains data for **891** of the real Titanic passengers. \n",
    "  - Each row represents one person. \n",
    "\n",
    "  - The columns describe different attributes about the person including whether they survived, their age, their ticket-class, their sex and the fare they paid.\n",
    "\n",
    "<br> \n",
    "\n",
    "- The goal of this analysis is to analyse the data set, explore it answering related questions using data visualization and statistical methods. \n",
    "\n",
    "- There are also some questions we would like to answer with Titanic dataset analysis.\n",
    "\n",
    "  - What is passengers demographic structure analyzed in terms of attributes?\n",
    "\n",
    "  - What is the overall passengers survival ratio?\n",
    "\n",
    "  - Which groups have higher chances for survival?"
   ]
  },
  {
   "cell_type": "markdown",
   "metadata": {
    "_cell_guid": "998b2a03-c60e-4fd6-9f69-784de6e6c9b8",
    "_uuid": "d3086cb02907affe5a674b54e4baaedd632482c7",
    "id": "L2CQUsQ3sgjv"
   },
   "source": [
    "### 3.Importing packages                                          "
   ]
  },
  {
   "cell_type": "code",
   "execution_count": 1,
   "metadata": {
    "_cell_guid": "872b97b2-56fe-4644-a11f-afb00f422169",
    "_uuid": "efb595c75201cdb2a53388dc152a8e526e1b921a",
    "id": "QqzR0yoSsgjw"
   },
   "outputs": [],
   "source": [
    "import numpy as np                                                 # Implements multi-dimensional array and matrices\n",
    "import pandas as pd                                                # For data manipulation and analysis\n",
    "import pandas_profiling                                            # For simple Exploratory data analysis\n",
    "import matplotlib.pyplot as plt                                    # Plotting library for Python programming language and it's numerical mathematics extension NumPy\n",
    "import seaborn as sns                                              # Provides a high level interface for drawing attractive and informative statistical graphics\n",
    "%matplotlib inline\n",
    "sns.set()\n",
    "\n",
    "from subprocess import check_output\n",
    "\n"
   ]
  },
  {
   "cell_type": "markdown",
   "metadata": {
    "id": "WxG88ETt9cag"
   },
   "source": [
    "### 4.Data loading and Description"
   ]
  },
  {
   "cell_type": "markdown",
   "metadata": {
    "id": "OMv00PoEsgjy"
   },
   "source": [
    "#### Importing the Dataset"
   ]
  },
  {
   "cell_type": "code",
   "execution_count": 2,
   "metadata": {
    "_cell_guid": "080fb327-390d-4124-b287-a561d050fe7e",
    "_uuid": "0333d5086a63e3870708e7ba7a540d036c53544e",
    "colab": {
     "base_uri": "https://localhost:8080/",
     "height": 229
    },
    "id": "RGmEgGCFsgj0",
    "outputId": "421d6e4b-80c9-493f-ec53-47a7c01a95d6"
   },
   "outputs": [
    {
     "data": {
      "text/html": [
       "<div>\n",
       "<style scoped>\n",
       "    .dataframe tbody tr th:only-of-type {\n",
       "        vertical-align: middle;\n",
       "    }\n",
       "\n",
       "    .dataframe tbody tr th {\n",
       "        vertical-align: top;\n",
       "    }\n",
       "\n",
       "    .dataframe thead th {\n",
       "        text-align: right;\n",
       "    }\n",
       "</style>\n",
       "<table border=\"1\" class=\"dataframe\">\n",
       "  <thead>\n",
       "    <tr style=\"text-align: right;\">\n",
       "      <th></th>\n",
       "      <th>PassengerId</th>\n",
       "      <th>Survived</th>\n",
       "      <th>Pclass</th>\n",
       "      <th>Name</th>\n",
       "      <th>Sex</th>\n",
       "      <th>Age</th>\n",
       "      <th>SibSp</th>\n",
       "      <th>Parch</th>\n",
       "      <th>Ticket</th>\n",
       "      <th>Fare</th>\n",
       "      <th>Cabin</th>\n",
       "      <th>Embarked</th>\n",
       "    </tr>\n",
       "  </thead>\n",
       "  <tbody>\n",
       "    <tr>\n",
       "      <th>0</th>\n",
       "      <td>1</td>\n",
       "      <td>0</td>\n",
       "      <td>3</td>\n",
       "      <td>Braund, Mr. Owen Harris</td>\n",
       "      <td>male</td>\n",
       "      <td>22.0</td>\n",
       "      <td>1</td>\n",
       "      <td>0</td>\n",
       "      <td>A/5 21171</td>\n",
       "      <td>7.2500</td>\n",
       "      <td>NaN</td>\n",
       "      <td>S</td>\n",
       "    </tr>\n",
       "    <tr>\n",
       "      <th>1</th>\n",
       "      <td>2</td>\n",
       "      <td>1</td>\n",
       "      <td>1</td>\n",
       "      <td>Cumings, Mrs. John Bradley (Florence Briggs Th...</td>\n",
       "      <td>female</td>\n",
       "      <td>38.0</td>\n",
       "      <td>1</td>\n",
       "      <td>0</td>\n",
       "      <td>PC 17599</td>\n",
       "      <td>71.2833</td>\n",
       "      <td>C85</td>\n",
       "      <td>C</td>\n",
       "    </tr>\n",
       "    <tr>\n",
       "      <th>2</th>\n",
       "      <td>3</td>\n",
       "      <td>1</td>\n",
       "      <td>3</td>\n",
       "      <td>Heikkinen, Miss. Laina</td>\n",
       "      <td>female</td>\n",
       "      <td>26.0</td>\n",
       "      <td>0</td>\n",
       "      <td>0</td>\n",
       "      <td>STON/O2. 3101282</td>\n",
       "      <td>7.9250</td>\n",
       "      <td>NaN</td>\n",
       "      <td>S</td>\n",
       "    </tr>\n",
       "    <tr>\n",
       "      <th>3</th>\n",
       "      <td>4</td>\n",
       "      <td>1</td>\n",
       "      <td>1</td>\n",
       "      <td>Futrelle, Mrs. Jacques Heath (Lily May Peel)</td>\n",
       "      <td>female</td>\n",
       "      <td>35.0</td>\n",
       "      <td>1</td>\n",
       "      <td>0</td>\n",
       "      <td>113803</td>\n",
       "      <td>53.1000</td>\n",
       "      <td>C123</td>\n",
       "      <td>S</td>\n",
       "    </tr>\n",
       "    <tr>\n",
       "      <th>4</th>\n",
       "      <td>5</td>\n",
       "      <td>0</td>\n",
       "      <td>3</td>\n",
       "      <td>Allen, Mr. William Henry</td>\n",
       "      <td>male</td>\n",
       "      <td>35.0</td>\n",
       "      <td>0</td>\n",
       "      <td>0</td>\n",
       "      <td>373450</td>\n",
       "      <td>8.0500</td>\n",
       "      <td>NaN</td>\n",
       "      <td>S</td>\n",
       "    </tr>\n",
       "  </tbody>\n",
       "</table>\n",
       "</div>"
      ],
      "text/plain": [
       "   PassengerId  Survived  Pclass  \\\n",
       "0            1         0       3   \n",
       "1            2         1       1   \n",
       "2            3         1       3   \n",
       "3            4         1       1   \n",
       "4            5         0       3   \n",
       "\n",
       "                                                Name     Sex   Age  SibSp  \\\n",
       "0                            Braund, Mr. Owen Harris    male  22.0      1   \n",
       "1  Cumings, Mrs. John Bradley (Florence Briggs Th...  female  38.0      1   \n",
       "2                             Heikkinen, Miss. Laina  female  26.0      0   \n",
       "3       Futrelle, Mrs. Jacques Heath (Lily May Peel)  female  35.0      1   \n",
       "4                           Allen, Mr. William Henry    male  35.0      0   \n",
       "\n",
       "   Parch            Ticket     Fare Cabin Embarked  \n",
       "0      0         A/5 21171   7.2500   NaN        S  \n",
       "1      0          PC 17599  71.2833   C85        C  \n",
       "2      0  STON/O2. 3101282   7.9250   NaN        S  \n",
       "3      0            113803  53.1000  C123        S  \n",
       "4      0            373450   8.0500   NaN        S  "
      ]
     },
     "execution_count": 2,
     "metadata": {},
     "output_type": "execute_result"
    }
   ],
   "source": [
    "titanic_data = pd.read_csv(\"https://raw.githubusercontent.com/insaid2018/Term-1/master/Data/Casestudy/titanic_train.csv\")     # Importing the titanic dataset using pd.read_csv\n",
    "titanic_data.head()"
   ]
  },
  {
   "cell_type": "markdown",
   "metadata": {
    "id": "-qKxevok3lfK"
   },
   "source": [
    "<center><img src=\"https://raw.githubusercontent.com/insaid2018/Term-2/master/images/download%20(1).png\" width=\"300\" height=\"180\" /></center>"
   ]
  },
  {
   "cell_type": "markdown",
   "metadata": {
    "id": "3eVqzwJwsgj2"
   },
   "source": [
    "- The dataset consists of the information about people boarding the famous RMS Titanic. Various variables present in the dataset includes data of age, sex, fare, ticket etc. \n",
    "- The dataset comprises of __891 observations of 12 columns__. Below is a table showing names of all the columns and their description."
   ]
  },
  {
   "cell_type": "markdown",
   "metadata": {
    "id": "RsCz1ISn9pd7"
   },
   "source": [
    "| Column Name   | Description                                               |\n",
    "| ------------- |:-------------                                            :| \n",
    "| PassengerId   | Passenger Identity                                        | \n",
    "| Survived      | Whether passenger survived or not: 0 = People died,   1 = People survived                         |  \n",
    "| Pclass        | Class of ticket: 1 = First Class, 2 = Second class, 3 = Third class                                         | \n",
    "| Name          | Name of passenger                                         |   \n",
    "| Sex           | Sex of passenger                                          |\n",
    "| Age           | Age of passenger                                          |\n",
    "| SibSp         | Number of sibling and/or spouse travelling with passenger |\n",
    "| Parch         | Number of parent and/or children travelling with passenger|\n",
    "| Ticket        | Ticket number                                             |\n",
    "| Fare          | Price of ticket                                           |\n",
    "| Cabin         | Cabin number                                              |\n",
    "| Embarked      | Source of the passenger                                   |\n"
   ]
  },
  {
   "cell_type": "markdown",
   "metadata": {
    "id": "Wa1zmAWVBx99"
   },
   "source": [
    "- Renaming the Column Pclass by Ticket_Class as the name can create confusion and since it is the class of ticket so Ticket_Class will be more suitable for it"
   ]
  },
  {
   "cell_type": "code",
   "execution_count": 3,
   "metadata": {
    "colab": {
     "base_uri": "https://localhost:8080/",
     "height": 229
    },
    "id": "ZaDzspIFBnb6",
    "outputId": "25540b67-b673-4a61-c57e-5450adf7ff43"
   },
   "outputs": [
    {
     "data": {
      "text/html": [
       "<div>\n",
       "<style scoped>\n",
       "    .dataframe tbody tr th:only-of-type {\n",
       "        vertical-align: middle;\n",
       "    }\n",
       "\n",
       "    .dataframe tbody tr th {\n",
       "        vertical-align: top;\n",
       "    }\n",
       "\n",
       "    .dataframe thead th {\n",
       "        text-align: right;\n",
       "    }\n",
       "</style>\n",
       "<table border=\"1\" class=\"dataframe\">\n",
       "  <thead>\n",
       "    <tr style=\"text-align: right;\">\n",
       "      <th></th>\n",
       "      <th>PassengerId</th>\n",
       "      <th>Survived</th>\n",
       "      <th>Ticket_Class</th>\n",
       "      <th>Name</th>\n",
       "      <th>Sex</th>\n",
       "      <th>Age</th>\n",
       "      <th>SibSp</th>\n",
       "      <th>Parch</th>\n",
       "      <th>Ticket</th>\n",
       "      <th>Fare</th>\n",
       "      <th>Cabin</th>\n",
       "      <th>Embarked</th>\n",
       "    </tr>\n",
       "  </thead>\n",
       "  <tbody>\n",
       "    <tr>\n",
       "      <th>0</th>\n",
       "      <td>1</td>\n",
       "      <td>0</td>\n",
       "      <td>3</td>\n",
       "      <td>Braund, Mr. Owen Harris</td>\n",
       "      <td>male</td>\n",
       "      <td>22.0</td>\n",
       "      <td>1</td>\n",
       "      <td>0</td>\n",
       "      <td>A/5 21171</td>\n",
       "      <td>7.2500</td>\n",
       "      <td>NaN</td>\n",
       "      <td>S</td>\n",
       "    </tr>\n",
       "    <tr>\n",
       "      <th>1</th>\n",
       "      <td>2</td>\n",
       "      <td>1</td>\n",
       "      <td>1</td>\n",
       "      <td>Cumings, Mrs. John Bradley (Florence Briggs Th...</td>\n",
       "      <td>female</td>\n",
       "      <td>38.0</td>\n",
       "      <td>1</td>\n",
       "      <td>0</td>\n",
       "      <td>PC 17599</td>\n",
       "      <td>71.2833</td>\n",
       "      <td>C85</td>\n",
       "      <td>C</td>\n",
       "    </tr>\n",
       "    <tr>\n",
       "      <th>2</th>\n",
       "      <td>3</td>\n",
       "      <td>1</td>\n",
       "      <td>3</td>\n",
       "      <td>Heikkinen, Miss. Laina</td>\n",
       "      <td>female</td>\n",
       "      <td>26.0</td>\n",
       "      <td>0</td>\n",
       "      <td>0</td>\n",
       "      <td>STON/O2. 3101282</td>\n",
       "      <td>7.9250</td>\n",
       "      <td>NaN</td>\n",
       "      <td>S</td>\n",
       "    </tr>\n",
       "    <tr>\n",
       "      <th>3</th>\n",
       "      <td>4</td>\n",
       "      <td>1</td>\n",
       "      <td>1</td>\n",
       "      <td>Futrelle, Mrs. Jacques Heath (Lily May Peel)</td>\n",
       "      <td>female</td>\n",
       "      <td>35.0</td>\n",
       "      <td>1</td>\n",
       "      <td>0</td>\n",
       "      <td>113803</td>\n",
       "      <td>53.1000</td>\n",
       "      <td>C123</td>\n",
       "      <td>S</td>\n",
       "    </tr>\n",
       "    <tr>\n",
       "      <th>4</th>\n",
       "      <td>5</td>\n",
       "      <td>0</td>\n",
       "      <td>3</td>\n",
       "      <td>Allen, Mr. William Henry</td>\n",
       "      <td>male</td>\n",
       "      <td>35.0</td>\n",
       "      <td>0</td>\n",
       "      <td>0</td>\n",
       "      <td>373450</td>\n",
       "      <td>8.0500</td>\n",
       "      <td>NaN</td>\n",
       "      <td>S</td>\n",
       "    </tr>\n",
       "  </tbody>\n",
       "</table>\n",
       "</div>"
      ],
      "text/plain": [
       "   PassengerId  Survived  Ticket_Class  \\\n",
       "0            1         0             3   \n",
       "1            2         1             1   \n",
       "2            3         1             3   \n",
       "3            4         1             1   \n",
       "4            5         0             3   \n",
       "\n",
       "                                                Name     Sex   Age  SibSp  \\\n",
       "0                            Braund, Mr. Owen Harris    male  22.0      1   \n",
       "1  Cumings, Mrs. John Bradley (Florence Briggs Th...  female  38.0      1   \n",
       "2                             Heikkinen, Miss. Laina  female  26.0      0   \n",
       "3       Futrelle, Mrs. Jacques Heath (Lily May Peel)  female  35.0      1   \n",
       "4                           Allen, Mr. William Henry    male  35.0      0   \n",
       "\n",
       "   Parch            Ticket     Fare Cabin Embarked  \n",
       "0      0         A/5 21171   7.2500   NaN        S  \n",
       "1      0          PC 17599  71.2833   C85        C  \n",
       "2      0  STON/O2. 3101282   7.9250   NaN        S  \n",
       "3      0            113803  53.1000  C123        S  \n",
       "4      0            373450   8.0500   NaN        S  "
      ]
     },
     "execution_count": 3,
     "metadata": {},
     "output_type": "execute_result"
    }
   ],
   "source": [
    "titanic_data.rename(columns={'Pclass':'Ticket_Class'},inplace=True)\n",
    "titanic_data.head()"
   ]
  },
  {
   "cell_type": "markdown",
   "metadata": {
    "_cell_guid": "6c7d2500-95b1-4057-98f7-39100e8a6d7f",
    "_uuid": "13fd8422db7a1ceae9ebb002df452e8293a9ab0c",
    "id": "UocOqZg9sgj3"
   },
   "source": [
    "## 5. Data Profiling"
   ]
  },
  {
   "cell_type": "markdown",
   "metadata": {
    "id": "icemj2lQsgj3"
   },
   "source": [
    "- In the upcoming sections we will first __understand our dataset__ using various pandas functionalities.\n",
    "- Then with the help of __pandas profiling__ we will find which columns of our dataset need preprocessing.\n",
    "- In __preprocessing__ we will deal with erronous and missing values of columns. \n",
    "- Again we will do __pandas profiling__ to see how preprocessing have transformed our dataset."
   ]
  },
  {
   "cell_type": "markdown",
   "metadata": {
    "id": "xxQgIFxxsgj3"
   },
   "source": [
    "<a id=section301></a>"
   ]
  },
  {
   "cell_type": "markdown",
   "metadata": {
    "id": "jytq_jywsgj4"
   },
   "source": [
    "### 5.1 Understanding the Dataset"
   ]
  },
  {
   "cell_type": "markdown",
   "metadata": {
    "id": "Ra_UIDC7sgj4"
   },
   "source": [
    "To gain insights from data we must look into each aspect of it very carefully. We will start with observing few rows and columns of data both from the starting and from the end\n"
   ]
  },
  {
   "cell_type": "code",
   "execution_count": 4,
   "metadata": {
    "colab": {
     "base_uri": "https://localhost:8080/",
     "height": 34
    },
    "id": "2O5Ody2gsgj5",
    "outputId": "41f92dd2-e9dc-46b6-9f99-398dfe187ab0"
   },
   "outputs": [
    {
     "data": {
      "text/plain": [
       "(891, 12)"
      ]
     },
     "execution_count": 4,
     "metadata": {},
     "output_type": "execute_result"
    }
   ],
   "source": [
    "titanic_data.shape                                                    # This will print the number of rows and comlumns of the Data Frame"
   ]
  },
  {
   "cell_type": "markdown",
   "metadata": {
    "id": "Sq4zP3lmsgj7"
   },
   "source": [
    "**Observations:**\n",
    "- titanic_data has __891 rows__ and __12 columns.__"
   ]
  },
  {
   "cell_type": "code",
   "execution_count": 5,
   "metadata": {
    "colab": {
     "base_uri": "https://localhost:8080/",
     "height": 67
    },
    "id": "uJY00r3nsgj7",
    "outputId": "0cf78a83-a39d-490f-833d-f6f1824a709a"
   },
   "outputs": [
    {
     "data": {
      "text/plain": [
       "Index(['PassengerId', 'Survived', 'Ticket_Class', 'Name', 'Sex', 'Age',\n",
       "       'SibSp', 'Parch', 'Ticket', 'Fare', 'Cabin', 'Embarked'],\n",
       "      dtype='object')"
      ]
     },
     "execution_count": 5,
     "metadata": {},
     "output_type": "execute_result"
    }
   ],
   "source": [
    "titanic_data.columns                                            # This will print the names of all columns."
   ]
  },
  {
   "cell_type": "code",
   "execution_count": 6,
   "metadata": {
    "colab": {
     "base_uri": "https://localhost:8080/",
     "height": 302
    },
    "id": "jOQfQyvjsgkC",
    "outputId": "8b929e45-6620-4f9e-daaf-18a78bd04ffc"
   },
   "outputs": [
    {
     "name": "stdout",
     "output_type": "stream",
     "text": [
      "<class 'pandas.core.frame.DataFrame'>\n",
      "RangeIndex: 891 entries, 0 to 890\n",
      "Data columns (total 12 columns):\n",
      " #   Column        Non-Null Count  Dtype  \n",
      "---  ------        --------------  -----  \n",
      " 0   PassengerId   891 non-null    int64  \n",
      " 1   Survived      891 non-null    int64  \n",
      " 2   Ticket_Class  891 non-null    int64  \n",
      " 3   Name          891 non-null    object \n",
      " 4   Sex           891 non-null    object \n",
      " 5   Age           714 non-null    float64\n",
      " 6   SibSp         891 non-null    int64  \n",
      " 7   Parch         891 non-null    int64  \n",
      " 8   Ticket        891 non-null    object \n",
      " 9   Fare          891 non-null    float64\n",
      " 10  Cabin         204 non-null    object \n",
      " 11  Embarked      889 non-null    object \n",
      "dtypes: float64(2), int64(5), object(5)\n",
      "memory usage: 83.7+ KB\n"
     ]
    }
   ],
   "source": [
    "titanic_data.info()                                                   # This will give Index, Datatype and Memory information"
   ]
  },
  {
   "cell_type": "markdown",
   "metadata": {
    "id": "WyHvrkTTGIGj"
   },
   "source": [
    "**Observations:**\n",
    "- We can see that there are **missing data** as all features do not contain **equal number of records**.\n",
    "- All the **variables** are present in **appropriate data types**."
   ]
  },
  {
   "cell_type": "code",
   "execution_count": 7,
   "metadata": {
    "colab": {
     "base_uri": "https://localhost:8080/",
     "height": 284
    },
    "id": "-nXKZHMjsgkD",
    "outputId": "438cbc61-9502-4e38-bb52-0c3bcf55648e"
   },
   "outputs": [
    {
     "data": {
      "text/html": [
       "<div>\n",
       "<style scoped>\n",
       "    .dataframe tbody tr th:only-of-type {\n",
       "        vertical-align: middle;\n",
       "    }\n",
       "\n",
       "    .dataframe tbody tr th {\n",
       "        vertical-align: top;\n",
       "    }\n",
       "\n",
       "    .dataframe thead th {\n",
       "        text-align: right;\n",
       "    }\n",
       "</style>\n",
       "<table border=\"1\" class=\"dataframe\">\n",
       "  <thead>\n",
       "    <tr style=\"text-align: right;\">\n",
       "      <th></th>\n",
       "      <th>PassengerId</th>\n",
       "      <th>Survived</th>\n",
       "      <th>Ticket_Class</th>\n",
       "      <th>Age</th>\n",
       "      <th>SibSp</th>\n",
       "      <th>Parch</th>\n",
       "      <th>Fare</th>\n",
       "    </tr>\n",
       "  </thead>\n",
       "  <tbody>\n",
       "    <tr>\n",
       "      <th>count</th>\n",
       "      <td>891.000000</td>\n",
       "      <td>891.000000</td>\n",
       "      <td>891.000000</td>\n",
       "      <td>714.000000</td>\n",
       "      <td>891.000000</td>\n",
       "      <td>891.000000</td>\n",
       "      <td>891.000000</td>\n",
       "    </tr>\n",
       "    <tr>\n",
       "      <th>mean</th>\n",
       "      <td>446.000000</td>\n",
       "      <td>0.383838</td>\n",
       "      <td>2.308642</td>\n",
       "      <td>29.699118</td>\n",
       "      <td>0.523008</td>\n",
       "      <td>0.381594</td>\n",
       "      <td>32.204208</td>\n",
       "    </tr>\n",
       "    <tr>\n",
       "      <th>std</th>\n",
       "      <td>257.353842</td>\n",
       "      <td>0.486592</td>\n",
       "      <td>0.836071</td>\n",
       "      <td>14.526497</td>\n",
       "      <td>1.102743</td>\n",
       "      <td>0.806057</td>\n",
       "      <td>49.693429</td>\n",
       "    </tr>\n",
       "    <tr>\n",
       "      <th>min</th>\n",
       "      <td>1.000000</td>\n",
       "      <td>0.000000</td>\n",
       "      <td>1.000000</td>\n",
       "      <td>0.420000</td>\n",
       "      <td>0.000000</td>\n",
       "      <td>0.000000</td>\n",
       "      <td>0.000000</td>\n",
       "    </tr>\n",
       "    <tr>\n",
       "      <th>25%</th>\n",
       "      <td>223.500000</td>\n",
       "      <td>0.000000</td>\n",
       "      <td>2.000000</td>\n",
       "      <td>20.125000</td>\n",
       "      <td>0.000000</td>\n",
       "      <td>0.000000</td>\n",
       "      <td>7.910400</td>\n",
       "    </tr>\n",
       "    <tr>\n",
       "      <th>50%</th>\n",
       "      <td>446.000000</td>\n",
       "      <td>0.000000</td>\n",
       "      <td>3.000000</td>\n",
       "      <td>28.000000</td>\n",
       "      <td>0.000000</td>\n",
       "      <td>0.000000</td>\n",
       "      <td>14.454200</td>\n",
       "    </tr>\n",
       "    <tr>\n",
       "      <th>75%</th>\n",
       "      <td>668.500000</td>\n",
       "      <td>1.000000</td>\n",
       "      <td>3.000000</td>\n",
       "      <td>38.000000</td>\n",
       "      <td>1.000000</td>\n",
       "      <td>0.000000</td>\n",
       "      <td>31.000000</td>\n",
       "    </tr>\n",
       "    <tr>\n",
       "      <th>max</th>\n",
       "      <td>891.000000</td>\n",
       "      <td>1.000000</td>\n",
       "      <td>3.000000</td>\n",
       "      <td>80.000000</td>\n",
       "      <td>8.000000</td>\n",
       "      <td>6.000000</td>\n",
       "      <td>512.329200</td>\n",
       "    </tr>\n",
       "  </tbody>\n",
       "</table>\n",
       "</div>"
      ],
      "text/plain": [
       "       PassengerId    Survived  Ticket_Class         Age       SibSp  \\\n",
       "count   891.000000  891.000000    891.000000  714.000000  891.000000   \n",
       "mean    446.000000    0.383838      2.308642   29.699118    0.523008   \n",
       "std     257.353842    0.486592      0.836071   14.526497    1.102743   \n",
       "min       1.000000    0.000000      1.000000    0.420000    0.000000   \n",
       "25%     223.500000    0.000000      2.000000   20.125000    0.000000   \n",
       "50%     446.000000    0.000000      3.000000   28.000000    0.000000   \n",
       "75%     668.500000    1.000000      3.000000   38.000000    1.000000   \n",
       "max     891.000000    1.000000      3.000000   80.000000    8.000000   \n",
       "\n",
       "            Parch        Fare  \n",
       "count  891.000000  891.000000  \n",
       "mean     0.381594   32.204208  \n",
       "std      0.806057   49.693429  \n",
       "min      0.000000    0.000000  \n",
       "25%      0.000000    7.910400  \n",
       "50%      0.000000   14.454200  \n",
       "75%      0.000000   31.000000  \n",
       "max      6.000000  512.329200  "
      ]
     },
     "execution_count": 7,
     "metadata": {},
     "output_type": "execute_result"
    }
   ],
   "source": [
    "titanic_data.describe()"
   ]
  },
  {
   "cell_type": "code",
   "execution_count": 8,
   "metadata": {
    "colab": {
     "base_uri": "https://localhost:8080/",
     "height": 1000
    },
    "id": "AgD-yNCwW-WU",
    "outputId": "f53c3905-ba6f-4e25-97e4-f435161aea38"
   },
   "outputs": [
    {
     "data": {
      "text/plain": [
       "array([[<AxesSubplot: title={'center': 'PassengerId'}>,\n",
       "        <AxesSubplot: title={'center': 'Survived'}>,\n",
       "        <AxesSubplot: title={'center': 'Ticket_Class'}>],\n",
       "       [<AxesSubplot: title={'center': 'Age'}>,\n",
       "        <AxesSubplot: title={'center': 'SibSp'}>,\n",
       "        <AxesSubplot: title={'center': 'Parch'}>],\n",
       "       [<AxesSubplot: title={'center': 'Fare'}>, <AxesSubplot: >,\n",
       "        <AxesSubplot: >]], dtype=object)"
      ]
     },
     "execution_count": 8,
     "metadata": {},
     "output_type": "execute_result"
    },
    {
     "data": {
      "image/png": "[encoded data removed]",
      "text/plain": [
       "<Figure size 1296x1152 with 9 Axes>"
      ]
     },
     "metadata": {},
     "output_type": "display_data"
    }
   ],
   "source": [
    "titanic_data.hist(bins=20,figsize=(18, 16))"
   ]
  },
  {
   "cell_type": "markdown",
   "metadata": {
    "id": "U0752iL1KHhZ"
   },
   "source": [
    "**Observations:**\n",
    "- The mean of the **Age** of the passengers is found to be **29.7** years with quite large standard deviation of 14.5264. Age distribution is centered around 20-30 years ranging to 80 with quite large number of children aged 0-5. The minimum age is 0.42 years and the maximum age is 80 years. The median value is 28 years.\n",
    "\n",
    "- On average, Passengers were not travelling with their *parents and children*.\n",
    "\n",
    "- The maximum fare is found to be **512** dollars. Fare attribute values distribution is strongly positevely skewed with mean 32.2042 and large stadard deviation of 49.6934. Because the distribution is skewed median is much smaller than the mean with value of 14.4542. The range of data is large ranging from 0 to 512. At the same time 75% of the data is lower than 31.\n",
    "\n",
    "- Ticket_Class distribution shows that almost 500 out of all 891 passengers in the dataset were travelling the third class and 200 passengers were travelling both in first and second class.\n",
    "\n",
    "- SibSp (number of siblings/spouses aboard) is similar to Parch distribution but with larger number of passengers travelling with one sibling/spouse.\n",
    "\n",
    "- Survived obviously shows only two values but we can also see that number of survivors is much smaller than the number of passengers who died in the disaster."
   ]
  },
  {
   "cell_type": "markdown",
   "metadata": {
    "id": "8xyPFqH8sgkI"
   },
   "source": [
    "### 5.2 Pre Profiling"
   ]
  },
  {
   "cell_type": "markdown",
   "metadata": {
    "id": "RhXufrOosgkJ"
   },
   "source": [
    "- By pandas profiling, an __interactive HTML report__ gets generated which contins all the information about the columns of the dataset, like the __counts and type__ of each _column_. Detailed information about each column, __coorelation between different columns__ and a sample of dataset.<br/>\n",
    "- It gives us __visual interpretation__ of each column in the data.\n",
    "- _Spread of the data_ can be better understood by the distribution plot. \n",
    "- _Grannular level_ analysis of each column."
   ]
  },
  {
   "cell_type": "code",
   "execution_count": 9,
   "metadata": {
    "colab": {
     "base_uri": "https://localhost:8080/",
     "height": 340
    },
    "id": "QjH2_AUgTh6S",
    "outputId": "67305eb3-1486-4ad8-b7df-35bf26bfe344"
   },
   "outputs": [
    {
     "name": "stderr",
     "output_type": "stream",
     "text": [
      "ERROR: Invalid requirement: '#'\n"
     ]
    }
   ],
   "source": [
    "!pip install pandas==0.25                    # You need to install pandas version 0.25 for pandas profiling or it might give some error while profiling"
   ]
  },
  {
   "cell_type": "code",
   "execution_count": 10,
   "metadata": {
    "colab": {
     "base_uri": "https://localhost:8080/",
     "height": 70
    },
    "id": "uIx_RIjlsgkJ",
    "outputId": "32b798e0-18c6-4f96-eabd-3510b0a51909"
   },
   "outputs": [
    {
     "data": {
      "application/vnd.jupyter.widget-view+json": {
       "model_id": "9dd88f116b3d4a68b25b7142ee719e54",
       "version_major": 2,
       "version_minor": 0
      },
      "text/plain": [
       "Summarize dataset:   0%|          | 0/5 [00:00<?, ?it/s]"
      ]
     },
     "metadata": {},
     "output_type": "display_data"
    },
    {
     "data": {
      "application/vnd.jupyter.widget-view+json": {
       "model_id": "91a7eaaf75f344d5a8886672586c54d0",
       "version_major": 2,
       "version_minor": 0
      },
      "text/plain": [
       "Generate report structure:   0%|          | 0/1 [00:00<?, ?it/s]"
      ]
     },
     "metadata": {},
     "output_type": "display_data"
    },
    {
     "data": {
      "application/vnd.jupyter.widget-view+json": {
       "model_id": "d5b03752306b4241b0befab797e055a5",
       "version_major": 2,
       "version_minor": 0
      },
      "text/plain": [
       "Render HTML:   0%|          | 0/1 [00:00<?, ?it/s]"
      ]
     },
     "metadata": {},
     "output_type": "display_data"
    },
    {
     "data": {
      "application/vnd.jupyter.widget-view+json": {
       "model_id": "cd4391e078e3429f9666b755d33eaf8e",
       "version_major": 2,
       "version_minor": 0
      },
      "text/plain": [
       "Export report to file:   0%|          | 0/1 [00:00<?, ?it/s]"
      ]
     },
     "metadata": {},
     "output_type": "display_data"
    }
   ],
   "source": [
    "profile = pandas_profiling.ProfileReport(titanic_data)\n",
    "profile.to_file(output_file=\"titanic_before_preprocessing.html\")"
   ]
  },
  {
   "cell_type": "markdown",
   "metadata": {
    "id": "ngHqSQYBsgkM"
   },
   "source": [
    "Here, we have done Pandas Profiling before preprocessing our dataset, so we have named the html file as __titanic_before_preprocessing.html__. Take a look at the file and see what useful insight you can develop from it. <br/>\n",
    "Now we will process our data to better understand it."
   ]
  },
  {
   "cell_type": "markdown",
   "metadata": {
    "id": "4jfEMQOYM0a1"
   },
   "source": [
    "**Observations from Pandas Profiling before Data Processing**\n",
    "__Dataset info__:\n",
    "- Number of variables: 12\n",
    "- Number of observations: 891\n",
    "- Missing cells: 8.1%\n",
    "\n",
    "__Variables types__: \n",
    "- Numeric = 6\n",
    "- Categorical = 4\n",
    "- Text (Unique) = 1\n",
    "- Rejected = 0\n",
    "\n",
    "\n",
    "\n",
    "- **Survived** has two distinct values.\n",
    "- The mean of **Age** is found to be **29.7**\n",
    "- The maximum **Fare** is found to be **512** with an average of **32.2**\n",
    "- The passengers were embarked from 3 ports of which **Southampton** has the highest number of passengers\n"
   ]
  },
  {
   "cell_type": "markdown",
   "metadata": {
    "id": "pkI5NMpqsgkM"
   },
   "source": [
    "<a id=section303></a>"
   ]
  },
  {
   "cell_type": "markdown",
   "metadata": {
    "id": "RvwQgDJYsgkN"
   },
   "source": [
    "###5.3 Preprocessing"
   ]
  },
  {
   "cell_type": "markdown",
   "metadata": {
    "id": "JocnGdfosgkN"
   },
   "source": [
    "- Dealing with missing values<br/>\n",
    "    - Dropping/Replacing missing entries of __Embarked.__\n",
    "    - Replacing missing values of __Age__ with median values.\n",
    "    - Dropping the column __'Cabin'__ as it has too many _null_ values.\n",
    "    - Dropping the column __'PassengerID'__,__'Name'__ and __'Ticket'__"
   ]
  },
  {
   "cell_type": "code",
   "execution_count": 11,
   "metadata": {
    "colab": {
     "base_uri": "https://localhost:8080/",
     "height": 235
    },
    "id": "WVYB1-o9sgkG",
    "outputId": "28518fa6-a1e6-4535-be0b-44734fe9a0b3"
   },
   "outputs": [
    {
     "data": {
      "text/plain": [
       "PassengerId       0\n",
       "Survived          0\n",
       "Ticket_Class      0\n",
       "Name              0\n",
       "Sex               0\n",
       "Age             177\n",
       "SibSp             0\n",
       "Parch             0\n",
       "Ticket            0\n",
       "Fare              0\n",
       "Cabin           687\n",
       "Embarked          2\n",
       "dtype: int64"
      ]
     },
     "execution_count": 11,
     "metadata": {},
     "output_type": "execute_result"
    }
   ],
   "source": [
    "titanic_data.isnull().sum()"
   ]
  },
  {
   "cell_type": "markdown",
   "metadata": {
    "id": "jkWV_3NesgkI"
   },
   "source": [
    "**Observations:**\n",
    "- From the above output we can see that __Age__ and __Cabin__ columns contains __maximum null values__. We will see how to deal with them."
   ]
  },
  {
   "cell_type": "markdown",
   "metadata": {
    "id": "IWSpyak4onfG"
   },
   "source": [
    "- Since Embarked is having 2 null values so we will fill those values with the mode of the Embarked column"
   ]
  },
  {
   "cell_type": "code",
   "execution_count": 12,
   "metadata": {
    "id": "aMK9IneTsgkN"
   },
   "outputs": [],
   "source": [
    "titanic_data.Embarked = titanic_data.Embarked.fillna(titanic_data['Embarked'].mode()[0]) # replacing the missing entries of Embarked with the mode"
   ]
  },
  {
   "cell_type": "markdown",
   "metadata": {
    "id": "0juVu539o016"
   },
   "source": [
    "- Since Age is having 177 missing entries, so we will fill the entries with the median of the Age column"
   ]
  },
  {
   "cell_type": "code",
   "execution_count": 13,
   "metadata": {
    "id": "Z75OUc-JsgkP"
   },
   "outputs": [],
   "source": [
    "median_age = titanic_data.Age.median()                                              \n",
    "titanic_data.Age.fillna(median_age, inplace = True)                                         # replacing the missing entries of the column Age with the median"
   ]
  },
  {
   "cell_type": "markdown",
   "metadata": {
    "id": "VSDZuB6JpPdy"
   },
   "source": [
    "- Since the column Cabin has lots of missing entries, so we are dropping that column from the data frame"
   ]
  },
  {
   "cell_type": "code",
   "execution_count": 14,
   "metadata": {
    "id": "GeViBO2zsgkR"
   },
   "outputs": [],
   "source": [
    "titanic_data.drop('Cabin', axis = 1,inplace = True)                                 # dropping the column Cabin as there are too many missing entries"
   ]
  },
  {
   "cell_type": "markdown",
   "metadata": {
    "id": "mjQXFb6rpaEL"
   },
   "source": [
    "- Since the columns PassengerID,Name and Ticket does not make any differences to our analysis, so we will drop those columns as well  "
   ]
  },
  {
   "cell_type": "code",
   "execution_count": 15,
   "metadata": {
    "id": "G3ecEGrCpzkO"
   },
   "outputs": [],
   "source": [
    "titanic_data.drop(['PassengerId','Name','Ticket'],axis=1,inplace=True)"
   ]
  },
  {
   "cell_type": "markdown",
   "metadata": {
    "id": "FHw_vO9xXaGs"
   },
   "source": [
    "- Creating a new column **FamilySize** by adding **SibSp** and **Parch** and **self**"
   ]
  },
  {
   "cell_type": "code",
   "execution_count": 16,
   "metadata": {
    "id": "F5GAKbcosgkV"
   },
   "outputs": [],
   "source": [
    "titanic_data['FamilySize'] = titanic_data['SibSp'] + titanic_data['Parch']+1"
   ]
  },
  {
   "cell_type": "markdown",
   "metadata": {
    "id": "_oOBNaoasgkW"
   },
   "source": [
    "- Segmenting __Sex__ column as per __Age__, Age less than 15 as __Child__, Age greater than 15 as __Males and Females__ as per their gender."
   ]
  },
  {
   "cell_type": "code",
   "execution_count": 17,
   "metadata": {
    "id": "b_ip8kYIsgkW"
   },
   "outputs": [],
   "source": [
    "titanic_data['People_Class'] = titanic_data.apply(lambda x: 'child' if x['Age'] < 15 else x['Sex'],axis=1)"
   ]
  },
  {
   "cell_type": "code",
   "execution_count": 18,
   "metadata": {
    "colab": {
     "base_uri": "https://localhost:8080/",
     "height": 195
    },
    "id": "3UGhyBoGsgkY",
    "outputId": "a3eac313-7424-4aa3-cc1b-f79d6c63b6a4"
   },
   "outputs": [
    {
     "data": {
      "text/html": [
       "<div>\n",
       "<style scoped>\n",
       "    .dataframe tbody tr th:only-of-type {\n",
       "        vertical-align: middle;\n",
       "    }\n",
       "\n",
       "    .dataframe tbody tr th {\n",
       "        vertical-align: top;\n",
       "    }\n",
       "\n",
       "    .dataframe thead th {\n",
       "        text-align: right;\n",
       "    }\n",
       "</style>\n",
       "<table border=\"1\" class=\"dataframe\">\n",
       "  <thead>\n",
       "    <tr style=\"text-align: right;\">\n",
       "      <th></th>\n",
       "      <th>Survived</th>\n",
       "      <th>Ticket_Class</th>\n",
       "      <th>Sex</th>\n",
       "      <th>Age</th>\n",
       "      <th>SibSp</th>\n",
       "      <th>Parch</th>\n",
       "      <th>Fare</th>\n",
       "      <th>Embarked</th>\n",
       "      <th>FamilySize</th>\n",
       "      <th>People_Class</th>\n",
       "    </tr>\n",
       "  </thead>\n",
       "  <tbody>\n",
       "    <tr>\n",
       "      <th>7</th>\n",
       "      <td>0</td>\n",
       "      <td>3</td>\n",
       "      <td>male</td>\n",
       "      <td>2.0</td>\n",
       "      <td>3</td>\n",
       "      <td>1</td>\n",
       "      <td>21.0750</td>\n",
       "      <td>S</td>\n",
       "      <td>5</td>\n",
       "      <td>child</td>\n",
       "    </tr>\n",
       "    <tr>\n",
       "      <th>9</th>\n",
       "      <td>1</td>\n",
       "      <td>2</td>\n",
       "      <td>female</td>\n",
       "      <td>14.0</td>\n",
       "      <td>1</td>\n",
       "      <td>0</td>\n",
       "      <td>30.0708</td>\n",
       "      <td>C</td>\n",
       "      <td>2</td>\n",
       "      <td>child</td>\n",
       "    </tr>\n",
       "    <tr>\n",
       "      <th>10</th>\n",
       "      <td>1</td>\n",
       "      <td>3</td>\n",
       "      <td>female</td>\n",
       "      <td>4.0</td>\n",
       "      <td>1</td>\n",
       "      <td>1</td>\n",
       "      <td>16.7000</td>\n",
       "      <td>S</td>\n",
       "      <td>3</td>\n",
       "      <td>child</td>\n",
       "    </tr>\n",
       "    <tr>\n",
       "      <th>14</th>\n",
       "      <td>0</td>\n",
       "      <td>3</td>\n",
       "      <td>female</td>\n",
       "      <td>14.0</td>\n",
       "      <td>0</td>\n",
       "      <td>0</td>\n",
       "      <td>7.8542</td>\n",
       "      <td>S</td>\n",
       "      <td>1</td>\n",
       "      <td>child</td>\n",
       "    </tr>\n",
       "    <tr>\n",
       "      <th>16</th>\n",
       "      <td>0</td>\n",
       "      <td>3</td>\n",
       "      <td>male</td>\n",
       "      <td>2.0</td>\n",
       "      <td>4</td>\n",
       "      <td>1</td>\n",
       "      <td>29.1250</td>\n",
       "      <td>Q</td>\n",
       "      <td>6</td>\n",
       "      <td>child</td>\n",
       "    </tr>\n",
       "  </tbody>\n",
       "</table>\n",
       "</div>"
      ],
      "text/plain": [
       "    Survived  Ticket_Class     Sex   Age  SibSp  Parch     Fare Embarked  \\\n",
       "7          0             3    male   2.0      3      1  21.0750        S   \n",
       "9          1             2  female  14.0      1      0  30.0708        C   \n",
       "10         1             3  female   4.0      1      1  16.7000        S   \n",
       "14         0             3  female  14.0      0      0   7.8542        S   \n",
       "16         0             3    male   2.0      4      1  29.1250        Q   \n",
       "\n",
       "    FamilySize People_Class  \n",
       "7            5        child  \n",
       "9            2        child  \n",
       "10           3        child  \n",
       "14           1        child  \n",
       "16           6        child  "
      ]
     },
     "execution_count": 18,
     "metadata": {},
     "output_type": "execute_result"
    }
   ],
   "source": [
    "titanic_data[titanic_data.Age<15].head()   #displaying only the child class"
   ]
  },
  {
   "cell_type": "code",
   "execution_count": 19,
   "metadata": {
    "colab": {
     "base_uri": "https://localhost:8080/",
     "height": 195
    },
    "id": "do6Hdw4Wsgka",
    "outputId": "1643e774-b037-4722-d968-49eda4fb08a9"
   },
   "outputs": [
    {
     "data": {
      "text/html": [
       "<div>\n",
       "<style scoped>\n",
       "    .dataframe tbody tr th:only-of-type {\n",
       "        vertical-align: middle;\n",
       "    }\n",
       "\n",
       "    .dataframe tbody tr th {\n",
       "        vertical-align: top;\n",
       "    }\n",
       "\n",
       "    .dataframe thead th {\n",
       "        text-align: right;\n",
       "    }\n",
       "</style>\n",
       "<table border=\"1\" class=\"dataframe\">\n",
       "  <thead>\n",
       "    <tr style=\"text-align: right;\">\n",
       "      <th></th>\n",
       "      <th>Survived</th>\n",
       "      <th>Ticket_Class</th>\n",
       "      <th>Sex</th>\n",
       "      <th>Age</th>\n",
       "      <th>SibSp</th>\n",
       "      <th>Parch</th>\n",
       "      <th>Fare</th>\n",
       "      <th>Embarked</th>\n",
       "      <th>FamilySize</th>\n",
       "      <th>People_Class</th>\n",
       "    </tr>\n",
       "  </thead>\n",
       "  <tbody>\n",
       "    <tr>\n",
       "      <th>0</th>\n",
       "      <td>0</td>\n",
       "      <td>3</td>\n",
       "      <td>male</td>\n",
       "      <td>22.0</td>\n",
       "      <td>1</td>\n",
       "      <td>0</td>\n",
       "      <td>7.2500</td>\n",
       "      <td>S</td>\n",
       "      <td>2</td>\n",
       "      <td>male</td>\n",
       "    </tr>\n",
       "    <tr>\n",
       "      <th>1</th>\n",
       "      <td>1</td>\n",
       "      <td>1</td>\n",
       "      <td>female</td>\n",
       "      <td>38.0</td>\n",
       "      <td>1</td>\n",
       "      <td>0</td>\n",
       "      <td>71.2833</td>\n",
       "      <td>C</td>\n",
       "      <td>2</td>\n",
       "      <td>female</td>\n",
       "    </tr>\n",
       "    <tr>\n",
       "      <th>2</th>\n",
       "      <td>1</td>\n",
       "      <td>3</td>\n",
       "      <td>female</td>\n",
       "      <td>26.0</td>\n",
       "      <td>0</td>\n",
       "      <td>0</td>\n",
       "      <td>7.9250</td>\n",
       "      <td>S</td>\n",
       "      <td>1</td>\n",
       "      <td>female</td>\n",
       "    </tr>\n",
       "    <tr>\n",
       "      <th>3</th>\n",
       "      <td>1</td>\n",
       "      <td>1</td>\n",
       "      <td>female</td>\n",
       "      <td>35.0</td>\n",
       "      <td>1</td>\n",
       "      <td>0</td>\n",
       "      <td>53.1000</td>\n",
       "      <td>S</td>\n",
       "      <td>2</td>\n",
       "      <td>female</td>\n",
       "    </tr>\n",
       "    <tr>\n",
       "      <th>4</th>\n",
       "      <td>0</td>\n",
       "      <td>3</td>\n",
       "      <td>male</td>\n",
       "      <td>35.0</td>\n",
       "      <td>0</td>\n",
       "      <td>0</td>\n",
       "      <td>8.0500</td>\n",
       "      <td>S</td>\n",
       "      <td>1</td>\n",
       "      <td>male</td>\n",
       "    </tr>\n",
       "  </tbody>\n",
       "</table>\n",
       "</div>"
      ],
      "text/plain": [
       "   Survived  Ticket_Class     Sex   Age  SibSp  Parch     Fare Embarked  \\\n",
       "0         0             3    male  22.0      1      0   7.2500        S   \n",
       "1         1             1  female  38.0      1      0  71.2833        C   \n",
       "2         1             3  female  26.0      0      0   7.9250        S   \n",
       "3         1             1  female  35.0      1      0  53.1000        S   \n",
       "4         0             3    male  35.0      0      0   8.0500        S   \n",
       "\n",
       "   FamilySize People_Class  \n",
       "0           2         male  \n",
       "1           2       female  \n",
       "2           1       female  \n",
       "3           2       female  \n",
       "4           1         male  "
      ]
     },
     "execution_count": 19,
     "metadata": {},
     "output_type": "execute_result"
    }
   ],
   "source": [
    "titanic_data[titanic_data.Age>15].head()"
   ]
  },
  {
   "cell_type": "markdown",
   "metadata": {
    "id": "iuaIykfNrDfG"
   },
   "source": [
    "- Since male and female does'not look suitable for People_Class so let's change it to Man and Woman respectively "
   ]
  },
  {
   "cell_type": "code",
   "execution_count": 20,
   "metadata": {
    "colab": {
     "base_uri": "https://localhost:8080/",
     "height": 195
    },
    "id": "CsyiZ2KErUvt",
    "outputId": "927754e6-4169-4707-aaf1-a8b2051e4a14"
   },
   "outputs": [
    {
     "data": {
      "text/html": [
       "<div>\n",
       "<style scoped>\n",
       "    .dataframe tbody tr th:only-of-type {\n",
       "        vertical-align: middle;\n",
       "    }\n",
       "\n",
       "    .dataframe tbody tr th {\n",
       "        vertical-align: top;\n",
       "    }\n",
       "\n",
       "    .dataframe thead th {\n",
       "        text-align: right;\n",
       "    }\n",
       "</style>\n",
       "<table border=\"1\" class=\"dataframe\">\n",
       "  <thead>\n",
       "    <tr style=\"text-align: right;\">\n",
       "      <th></th>\n",
       "      <th>Survived</th>\n",
       "      <th>Ticket_Class</th>\n",
       "      <th>Sex</th>\n",
       "      <th>Age</th>\n",
       "      <th>SibSp</th>\n",
       "      <th>Parch</th>\n",
       "      <th>Fare</th>\n",
       "      <th>Embarked</th>\n",
       "      <th>FamilySize</th>\n",
       "      <th>People_Class</th>\n",
       "    </tr>\n",
       "  </thead>\n",
       "  <tbody>\n",
       "    <tr>\n",
       "      <th>0</th>\n",
       "      <td>0</td>\n",
       "      <td>3</td>\n",
       "      <td>male</td>\n",
       "      <td>22.0</td>\n",
       "      <td>1</td>\n",
       "      <td>0</td>\n",
       "      <td>7.2500</td>\n",
       "      <td>S</td>\n",
       "      <td>2</td>\n",
       "      <td>Man</td>\n",
       "    </tr>\n",
       "    <tr>\n",
       "      <th>1</th>\n",
       "      <td>1</td>\n",
       "      <td>1</td>\n",
       "      <td>female</td>\n",
       "      <td>38.0</td>\n",
       "      <td>1</td>\n",
       "      <td>0</td>\n",
       "      <td>71.2833</td>\n",
       "      <td>C</td>\n",
       "      <td>2</td>\n",
       "      <td>Woman</td>\n",
       "    </tr>\n",
       "    <tr>\n",
       "      <th>2</th>\n",
       "      <td>1</td>\n",
       "      <td>3</td>\n",
       "      <td>female</td>\n",
       "      <td>26.0</td>\n",
       "      <td>0</td>\n",
       "      <td>0</td>\n",
       "      <td>7.9250</td>\n",
       "      <td>S</td>\n",
       "      <td>1</td>\n",
       "      <td>Woman</td>\n",
       "    </tr>\n",
       "    <tr>\n",
       "      <th>3</th>\n",
       "      <td>1</td>\n",
       "      <td>1</td>\n",
       "      <td>female</td>\n",
       "      <td>35.0</td>\n",
       "      <td>1</td>\n",
       "      <td>0</td>\n",
       "      <td>53.1000</td>\n",
       "      <td>S</td>\n",
       "      <td>2</td>\n",
       "      <td>Woman</td>\n",
       "    </tr>\n",
       "    <tr>\n",
       "      <th>4</th>\n",
       "      <td>0</td>\n",
       "      <td>3</td>\n",
       "      <td>male</td>\n",
       "      <td>35.0</td>\n",
       "      <td>0</td>\n",
       "      <td>0</td>\n",
       "      <td>8.0500</td>\n",
       "      <td>S</td>\n",
       "      <td>1</td>\n",
       "      <td>Man</td>\n",
       "    </tr>\n",
       "  </tbody>\n",
       "</table>\n",
       "</div>"
      ],
      "text/plain": [
       "   Survived  Ticket_Class     Sex   Age  SibSp  Parch     Fare Embarked  \\\n",
       "0         0             3    male  22.0      1      0   7.2500        S   \n",
       "1         1             1  female  38.0      1      0  71.2833        C   \n",
       "2         1             3  female  26.0      0      0   7.9250        S   \n",
       "3         1             1  female  35.0      1      0  53.1000        S   \n",
       "4         0             3    male  35.0      0      0   8.0500        S   \n",
       "\n",
       "   FamilySize People_Class  \n",
       "0           2          Man  \n",
       "1           2        Woman  \n",
       "2           1        Woman  \n",
       "3           2        Woman  \n",
       "4           1          Man  "
      ]
     },
     "execution_count": 20,
     "metadata": {},
     "output_type": "execute_result"
    }
   ],
   "source": [
    "titanic_data['People_Class']=titanic_data['People_Class'].map({'male':'Man','female':'Woman','child':'Children'})\n",
    "titanic_data.head()"
   ]
  },
  {
   "cell_type": "code",
   "execution_count": 21,
   "metadata": {
    "colab": {
     "base_uri": "https://localhost:8080/",
     "height": 195
    },
    "id": "L7ekmx_vsVgp",
    "outputId": "cb00bde4-fc73-4212-92fa-37d854f97b2b"
   },
   "outputs": [
    {
     "data": {
      "text/html": [
       "<div>\n",
       "<style scoped>\n",
       "    .dataframe tbody tr th:only-of-type {\n",
       "        vertical-align: middle;\n",
       "    }\n",
       "\n",
       "    .dataframe tbody tr th {\n",
       "        vertical-align: top;\n",
       "    }\n",
       "\n",
       "    .dataframe thead th {\n",
       "        text-align: right;\n",
       "    }\n",
       "</style>\n",
       "<table border=\"1\" class=\"dataframe\">\n",
       "  <thead>\n",
       "    <tr style=\"text-align: right;\">\n",
       "      <th></th>\n",
       "      <th>Survived</th>\n",
       "      <th>Ticket_Class</th>\n",
       "      <th>Sex</th>\n",
       "      <th>Age</th>\n",
       "      <th>SibSp</th>\n",
       "      <th>Parch</th>\n",
       "      <th>Fare</th>\n",
       "      <th>Embarked</th>\n",
       "      <th>FamilySize</th>\n",
       "      <th>People_Class</th>\n",
       "    </tr>\n",
       "  </thead>\n",
       "  <tbody>\n",
       "    <tr>\n",
       "      <th>7</th>\n",
       "      <td>0</td>\n",
       "      <td>3</td>\n",
       "      <td>male</td>\n",
       "      <td>2.0</td>\n",
       "      <td>3</td>\n",
       "      <td>1</td>\n",
       "      <td>21.0750</td>\n",
       "      <td>S</td>\n",
       "      <td>5</td>\n",
       "      <td>Children</td>\n",
       "    </tr>\n",
       "    <tr>\n",
       "      <th>9</th>\n",
       "      <td>1</td>\n",
       "      <td>2</td>\n",
       "      <td>female</td>\n",
       "      <td>14.0</td>\n",
       "      <td>1</td>\n",
       "      <td>0</td>\n",
       "      <td>30.0708</td>\n",
       "      <td>C</td>\n",
       "      <td>2</td>\n",
       "      <td>Children</td>\n",
       "    </tr>\n",
       "    <tr>\n",
       "      <th>10</th>\n",
       "      <td>1</td>\n",
       "      <td>3</td>\n",
       "      <td>female</td>\n",
       "      <td>4.0</td>\n",
       "      <td>1</td>\n",
       "      <td>1</td>\n",
       "      <td>16.7000</td>\n",
       "      <td>S</td>\n",
       "      <td>3</td>\n",
       "      <td>Children</td>\n",
       "    </tr>\n",
       "    <tr>\n",
       "      <th>14</th>\n",
       "      <td>0</td>\n",
       "      <td>3</td>\n",
       "      <td>female</td>\n",
       "      <td>14.0</td>\n",
       "      <td>0</td>\n",
       "      <td>0</td>\n",
       "      <td>7.8542</td>\n",
       "      <td>S</td>\n",
       "      <td>1</td>\n",
       "      <td>Children</td>\n",
       "    </tr>\n",
       "    <tr>\n",
       "      <th>16</th>\n",
       "      <td>0</td>\n",
       "      <td>3</td>\n",
       "      <td>male</td>\n",
       "      <td>2.0</td>\n",
       "      <td>4</td>\n",
       "      <td>1</td>\n",
       "      <td>29.1250</td>\n",
       "      <td>Q</td>\n",
       "      <td>6</td>\n",
       "      <td>Children</td>\n",
       "    </tr>\n",
       "  </tbody>\n",
       "</table>\n",
       "</div>"
      ],
      "text/plain": [
       "    Survived  Ticket_Class     Sex   Age  SibSp  Parch     Fare Embarked  \\\n",
       "7          0             3    male   2.0      3      1  21.0750        S   \n",
       "9          1             2  female  14.0      1      0  30.0708        C   \n",
       "10         1             3  female   4.0      1      1  16.7000        S   \n",
       "14         0             3  female  14.0      0      0   7.8542        S   \n",
       "16         0             3    male   2.0      4      1  29.1250        Q   \n",
       "\n",
       "    FamilySize People_Class  \n",
       "7            5     Children  \n",
       "9            2     Children  \n",
       "10           3     Children  \n",
       "14           1     Children  \n",
       "16           6     Children  "
      ]
     },
     "execution_count": 21,
     "metadata": {},
     "output_type": "execute_result"
    }
   ],
   "source": [
    "titanic_data[titanic_data.Age<15].head() "
   ]
  },
  {
   "cell_type": "markdown",
   "metadata": {
    "id": "QQAdl6ZUsgkb"
   },
   "source": [
    "## 5.4 Post Pandas Profiling"
   ]
  },
  {
   "cell_type": "code",
   "execution_count": 22,
   "metadata": {
    "colab": {
     "base_uri": "https://localhost:8080/",
     "height": 70
    },
    "id": "Gsxc34BAsgkc",
    "outputId": "7ca249e3-6768-4f56-c644-5168c73f51b0"
   },
   "outputs": [
    {
     "ename": "TypeError",
     "evalue": "to_file() got an unexpected keyword argument 'outputfile'",
     "output_type": "error",
     "traceback": [
      "\u001b[1;31m---------------------------------------------------------------------------\u001b[0m",
      "\u001b[1;31mTypeError\u001b[0m                                 Traceback (most recent call last)",
      "Input \u001b[1;32mIn [22]\u001b[0m, in \u001b[0;36m<cell line: 3>\u001b[1;34m()\u001b[0m\n\u001b[0;32m      1\u001b[0m \u001b[38;5;28;01mimport\u001b[39;00m \u001b[38;5;21;01mpandas_profiling\u001b[39;00m\n\u001b[0;32m      2\u001b[0m profile \u001b[38;5;241m=\u001b[39m pandas_profiling\u001b[38;5;241m.\u001b[39mProfileReport(titanic_data)\n\u001b[1;32m----> 3\u001b[0m \u001b[43mprofile\u001b[49m\u001b[38;5;241;43m.\u001b[39;49m\u001b[43mto_file\u001b[49m\u001b[43m(\u001b[49m\u001b[43moutputfile\u001b[49m\u001b[38;5;241;43m=\u001b[39;49m\u001b[38;5;124;43m\"\u001b[39;49m\u001b[38;5;124;43mtitanic_after_preprocessing.html\u001b[39;49m\u001b[38;5;124;43m\"\u001b[39;49m\u001b[43m)\u001b[49m\n",
      "\u001b[1;31mTypeError\u001b[0m: to_file() got an unexpected keyword argument 'outputfile'"
     ]
    }
   ],
   "source": [
    "import pandas_profiling\n",
    "profile = pandas_profiling.ProfileReport(titanic_data)\n",
    "profile.to_file(outputfile=\"titanic_after_preprocessing.html\")"
   ]
  },
  {
   "cell_type": "markdown",
   "metadata": {
    "id": "AonLku2psgke"
   },
   "source": [
    "Now we have preprocessed the data, now the dataset doesnot contain missing values, we have also introduced new feature named __FamilySize__. So, the pandas profiling report which we have generated after preprocessing will give us more beneficial insights. You can compare the two reports, i.e __titanic_after_preprocessing.html__ and titanic_before_preprocessing.html.<br/>\n",
    "In titanic_after_preprocessing.html report, observations:\n",
    "- In the Dataset info, Total __Missing(%)__ = __0.0%__ \n",
    "- Number of __variables__ = __13__ \n",
    "- Observe the newly created variable FamilySize, Click on Toggle details to get more detailed information about it."
   ]
  },
  {
   "cell_type": "markdown",
   "metadata": {
    "id": "KHR4KFQdsgke"
   },
   "source": [
    "<a id=section4></a>"
   ]
  },
  {
   "cell_type": "markdown",
   "metadata": {
    "id": "C6hOaFB0sgke"
   },
   "source": [
    "### 6. Exploratory Data Analysis"
   ]
  },
  {
   "cell_type": "markdown",
   "metadata": {
    "id": "gig9VlDesigX"
   },
   "source": [
    "### 6.1. What was the demographic structure of Titanic passengers?"
   ]
  },
  {
   "cell_type": "code",
   "execution_count": null,
   "metadata": {
    "colab": {
     "base_uri": "https://localhost:8080/",
     "height": 118
    },
    "id": "Puxf8Kovs3rX",
    "outputId": "9a0580e6-492b-47bb-a69c-98d0052aa81f"
   },
   "outputs": [],
   "source": [
    "titanic_age_groups = pd.cut(titanic_data[\"Age\"], bins=[0, 15, 25, 40, 60, 80]).value_counts().sort_index()\n",
    "titanic_age_groups"
   ]
  },
  {
   "cell_type": "markdown",
   "metadata": {
    "id": "blKYE0JTuJrn"
   },
   "source": [
    "- 83 passengers were children in age 0-15. A little over 200 of passengers were both between 15-25 and 263 of them were 25-40 years old. Almost 128 of all passengers were 40-60 years old. Only 22 of all passengers were above 60 years old. That tells us that Titanic passengers population was quite young."
   ]
  },
  {
   "cell_type": "code",
   "execution_count": null,
   "metadata": {
    "colab": {
     "base_uri": "https://localhost:8080/",
     "height": 168
    },
    "id": "gmH8A3KZvWFc",
    "outputId": "f706c7ad-c65b-4b2c-b528-5dca7efec184"
   },
   "outputs": [],
   "source": [
    "titanic_data[\"Age\"].describe()"
   ]
  },
  {
   "cell_type": "markdown",
   "metadata": {
    "id": "LagBnTucvjoW"
   },
   "source": [
    "- You can notice that the youngest passenger was 5 months old (0.42 year old). Let's see who he or she was?"
   ]
  },
  {
   "cell_type": "code",
   "execution_count": null,
   "metadata": {
    "colab": {
     "base_uri": "https://localhost:8080/",
     "height": 336
    },
    "id": "8gIdzpUWvaSo",
    "outputId": "17627ed5-253c-4461-e869-c07af2838f38"
   },
   "outputs": [],
   "source": [
    "titanic_data.loc[titanic_data[\"Age\"].argmin()]"
   ]
  },
  {
   "cell_type": "markdown",
   "metadata": {
    "id": "7ibHoBpQwHfc"
   },
   "source": [
    "- It was a boy named Assed Alexander Thomas born in Hardīn, Lebanon on 8 November 1911.\n",
    "\n",
    "- From the above information we can see that the child survived"
   ]
  },
  {
   "cell_type": "code",
   "execution_count": null,
   "metadata": {
    "colab": {
     "base_uri": "https://localhost:8080/",
     "height": 151
    },
    "id": "ecu18NTENLk9",
    "outputId": "bdd19c97-4d5f-4271-b7ef-703c219d6ada"
   },
   "outputs": [],
   "source": [
    "titanic_sibsp = titanic_data[\"SibSp\"].value_counts()\n",
    "titanic_sibsp"
   ]
  },
  {
   "cell_type": "markdown",
   "metadata": {
    "id": "IkPbtnToNWej"
   },
   "source": [
    "Observations:\n",
    "\n",
    "- 608 passengers travelled without any siblings or spouse. \n",
    "\n",
    "- 209 passengers travelled with one child or spouse. \n",
    "\n",
    "- Only 74 passengers traveled with more than one sibling or spouse."
   ]
  },
  {
   "cell_type": "code",
   "execution_count": null,
   "metadata": {
    "colab": {
     "base_uri": "https://localhost:8080/",
     "height": 151
    },
    "id": "NFYBPl5vN_DN",
    "outputId": "b446686e-3e37-41bb-e939-3da779c5d83d"
   },
   "outputs": [],
   "source": [
    "titanic_parch = titanic_data[\"Parch\"].value_counts()\n",
    "titanic_parch"
   ]
  },
  {
   "cell_type": "markdown",
   "metadata": {
    "id": "pDl6QOdbOIBG"
   },
   "source": [
    "The situation is pretty similar in case of passengers travelling with parents or children. \n",
    "\n",
    "- Most of them (678) travelled alone and 118 travelled with just one parent or children. \n",
    "\n",
    "- 95 passengers travelled with two and more parents or children."
   ]
  },
  {
   "cell_type": "code",
   "execution_count": null,
   "metadata": {
    "colab": {
     "base_uri": "https://localhost:8080/",
     "height": 101
    },
    "id": "zPUMiT1hOeyI",
    "outputId": "c3eb536e-997a-4b29-a9f9-eb968ba16dac"
   },
   "outputs": [],
   "source": [
    "titanic_fare_groups = pd.cut(titanic_data[\"Fare\"], bins=[0, 40, 60, 150, 550]).value_counts().sort_index()\n",
    "titanic_fare_groups"
   ]
  },
  {
   "cell_type": "markdown",
   "metadata": {
    "id": "suBijJ4HPTad"
   },
   "source": [
    "- The first class tickets ranged enormously in price, from 150 dollars for a simple berth, up to 512 dollars for one of the two Parlour suites. \n",
    "\n",
    "- Second class tickets were 60 dollars and third class passengers paid between 15 and 40 dollars."
   ]
  },
  {
   "cell_type": "code",
   "execution_count": null,
   "metadata": {
    "colab": {
     "base_uri": "https://localhost:8080/",
     "height": 84
    },
    "id": "k4xEhw-jRYQk",
    "outputId": "28880341-a2d4-4575-f042-2742b54957a1"
   },
   "outputs": [],
   "source": [
    "titanic_embarked = titanic_data[\"Embarked\"].value_counts()\n",
    "titanic_embarked.index = [\"Southampton\", \"Cherbourg\", \"Queenstown\"]\n",
    "titanic_embarked"
   ]
  },
  {
   "cell_type": "markdown",
   "metadata": {
    "id": "fuxlMQuPRue1"
   },
   "source": [
    "- We can see that vast majority of passengers, 644, embarked in Southampton), 168 embarked in Cherbourg and only 77 of passengers embarked Titanic in Queenstown."
   ]
  },
  {
   "cell_type": "markdown",
   "metadata": {
    "id": "aK2Ay8d_R8Gh"
   },
   "source": [
    "### 6.2. What is the survival ratio of Titanic passengers?\n",
    "\n",
    "Survival ratio metric is defined as the ratio between the number of survived passengers and the overall number of passengers."
   ]
  },
  {
   "cell_type": "code",
   "execution_count": null,
   "metadata": {
    "colab": {
     "base_uri": "https://localhost:8080/",
     "height": 67
    },
    "id": "41TVk-0iSD7G",
    "outputId": "fe30dc38-6309-4f61-eefb-dec3d1b28555"
   },
   "outputs": [],
   "source": [
    "titanic_survived = titanic_data[\"Survived\"].value_counts(sort=False)\n",
    "titanic_survived.index = [\"Not Survived\", \"Survived\"]\n",
    "titanic_survived"
   ]
  },
  {
   "cell_type": "code",
   "execution_count": null,
   "metadata": {
    "id": "TR7MqmxbWEU_"
   },
   "outputs": [],
   "source": [
    "def get_survival_ratio(passengers_df):\n",
    "    return passengers_df[\"Survived\"].sum()/passengers_df[\"Survived\"].count()"
   ]
  },
  {
   "cell_type": "code",
   "execution_count": null,
   "metadata": {
    "colab": {
     "base_uri": "https://localhost:8080/",
     "height": 34
    },
    "id": "ZhISpfggWOIO",
    "outputId": "c161e267-d555-4c0f-fa3b-2669d4fb5954"
   },
   "outputs": [],
   "source": [
    "survival_ratio = get_survival_ratio(titanic_data)\n",
    "survival_ratio"
   ]
  },
  {
   "cell_type": "markdown",
   "metadata": {
    "id": "8VF-UVy3Wg1S"
   },
   "source": [
    "- Out of 891 passengers only 342 survived and 549 died. The Titanic survival ratio is approximately 0.38, meaning that only 38% of all passengers survived the disaster. That is really small percentage."
   ]
  },
  {
   "cell_type": "markdown",
   "metadata": {
    "id": "zTNisCFqsgkf"
   },
   "source": [
    "- Using Countplot"
   ]
  },
  {
   "cell_type": "code",
   "execution_count": null,
   "metadata": {
    "_cell_guid": "d2bd2723-3a68-4e94-a629-7a0fca99cb2a",
    "_uuid": "3fe99f565401dae73cfecd3fb2cf8dc201119b36",
    "colab": {
     "base_uri": "https://localhost:8080/",
     "height": 545
    },
    "id": "SB7WEj3Ksgkf",
    "outputId": "425b7c10-ad04-4496-c154-09246ce14a01"
   },
   "outputs": [],
   "source": [
    "sns.countplot(x='Survived', data=titanic_data).set_title('Count plot for Survived')"
   ]
  },
  {
   "cell_type": "markdown",
   "metadata": {
    "_cell_guid": "1babbbf7-085d-4141-b29a-f9fd8f388e46",
    "_uuid": "efa6e3dbb66ca31c8aa1a2e4ec934c00bbf2e411",
    "id": "R2IUOFXBsgkh"
   },
   "source": [
    "**Observations:**\n",
    "- You can see that __more people died than survived.__ \n",
    "\n"
   ]
  },
  {
   "cell_type": "markdown",
   "metadata": {
    "_cell_guid": "d9cd643d-14a4-43e6-8eeb-53fca5e2ffb1",
    "_uuid": "fdc97f58b646df5993d1e90ff28abfa2b41b1425",
    "id": "P2CmdrjDsgkk"
   },
   "source": [
    "### 6.3. Who is more likely to survive Men, Women or Children?"
   ]
  },
  {
   "cell_type": "markdown",
   "metadata": {
    "id": "OSIm16w9sgkk"
   },
   "source": [
    "- First of all looking at how __Age is varying with gender.__"
   ]
  },
  {
   "cell_type": "code",
   "execution_count": null,
   "metadata": {
    "colab": {
     "base_uri": "https://localhost:8080/",
     "height": 250
    },
    "id": "U92Eq5yusgkk",
    "outputId": "f9ae6dbe-9189-4225-e1fd-4f578ab055f8"
   },
   "outputs": [],
   "source": [
    "as_fig = sns.FacetGrid(titanic_data,hue='People_Class',aspect=5)\n",
    "\n",
    "as_fig.map(sns.kdeplot,'Age',shade=True)\n",
    "\n",
    "oldest = titanic_data['Age'].max()\n",
    "\n",
    "as_fig.set(xlim=(0,oldest))\n",
    "\n",
    "as_fig.add_legend()\n",
    "plt.title('Age distribution using FacetGrid')"
   ]
  },
  {
   "cell_type": "markdown",
   "metadata": {
    "id": "KQmhEyWfsgkm"
   },
   "source": [
    "**Observations:**\n",
    "- In titanic RMS __Children__ of Age __3-8__ yrs are in majority.\n",
    "- Maximum __Men and Women__ are of Age __25-35__ yrs. "
   ]
  },
  {
   "cell_type": "markdown",
   "metadata": {
    "id": "rXDDl3orsgkn"
   },
   "source": [
    "Using groupby"
   ]
  },
  {
   "cell_type": "code",
   "execution_count": null,
   "metadata": {
    "_cell_guid": "d6dd2033-80b8-44c6-8d91-95a7353552fd",
    "_uuid": "1b7ef6637506ba053434c3e0b0b3f0bc0cf4d01d",
    "colab": {
     "base_uri": "https://localhost:8080/",
     "height": 151
    },
    "id": "WpAorR98sgkn",
    "outputId": "a4efb340-95c4-4b0a-d439-d3f7cb58c413"
   },
   "outputs": [],
   "source": [
    "titanic_data.groupby(['Survived','People_Class'])['Survived'].count()"
   ]
  },
  {
   "cell_type": "markdown",
   "metadata": {
    "id": "0FIo59RXsgkp"
   },
   "source": [
    "**Observations:**\n",
    "- From the above you can see that its __difficult__ to absorb information quickly by looking at __numbers.__ Therefore we will make variety of plots to get clear vision of the scenario."
   ]
  },
  {
   "cell_type": "markdown",
   "metadata": {
    "id": "YKUgs9YZsgkp"
   },
   "source": [
    "- Using factorplot "
   ]
  },
  {
   "cell_type": "code",
   "execution_count": null,
   "metadata": {
    "_cell_guid": "b1f97218-9ef5-43b3-b946-e067827a6693",
    "_uuid": "1e13eaa5a0070378fc59f3a87c3862b1eb0a804a",
    "colab": {
     "base_uri": "https://localhost:8080/",
     "height": 598
    },
    "id": "1eVBmqr1sgkp",
    "outputId": "ca5324c4-a21e-4c78-8dde-487e2df315d5",
    "scrolled": true
   },
   "outputs": [],
   "source": [
    "sns.factorplot('People_Class', hue='Survived', kind='count', data=titanic_data);\n",
    "plt.title('Factor plot for man woman and children')"
   ]
  },
  {
   "cell_type": "markdown",
   "metadata": {
    "id": "cr83Mr_5sgkr"
   },
   "source": [
    "**Observations:**\n",
    "- Majority of __males died__.\n",
    "- __Females__ have high probability to __survive.__"
   ]
  },
  {
   "cell_type": "markdown",
   "metadata": {
    "id": "b85o3MUWsgkr"
   },
   "source": [
    "To know the exact %"
   ]
  },
  {
   "cell_type": "code",
   "execution_count": null,
   "metadata": {
    "_cell_guid": "4a6f8e4e-c58f-4f6f-9287-9f9a741431da",
    "_uuid": "11444fc10bb62ac315a6ab2114b9ff54dde3d45e",
    "colab": {
     "base_uri": "https://localhost:8080/",
     "height": 67
    },
    "id": "TNfr-EYPsgkr",
    "outputId": "b798e85c-5aea-44a6-ca70-68c7960df7ae"
   },
   "outputs": [],
   "source": [
    "print(\"% of women survived: \" , titanic_data[titanic_data.People_Class == 'Woman']['Survived'].sum()/titanic_data[titanic_data.People_Class == 'Woman']['Survived'].count())\n",
    "print(\"% of men survived:   \" , titanic_data[titanic_data.People_Class == 'Man']['Survived'].sum()/titanic_data[titanic_data.People_Class == 'Man']['Survived'].count())\n",
    "print(\"% of child survived:   \" , titanic_data[titanic_data.People_Class == 'Children']['Survived'].sum()/titanic_data[titanic_data.People_Class == 'Children']['Survived'].count())"
   ]
  },
  {
   "cell_type": "markdown",
   "metadata": {
    "id": "VA3WOCuasgkt"
   },
   "source": [
    "- Using pie plot"
   ]
  },
  {
   "cell_type": "code",
   "execution_count": null,
   "metadata": {
    "_cell_guid": "fbbf541c-ae16-4f7e-a462-fdd6f9898440",
    "_uuid": "3994bc6102c107006edc0854ea7663eea2c030d2",
    "colab": {
     "base_uri": "https://localhost:8080/",
     "height": 610
    },
    "id": "fOxvXvOssgkt",
    "outputId": "643bbdcc-ac1d-48ff-8e09-6050956530e6"
   },
   "outputs": [],
   "source": [
    "f,ax = plt.subplots(1,3,figsize=(20,7))\n",
    "titanic_data['Survived'][titanic_data['People_Class'] == 'Man'].value_counts().plot.pie(explode=[0,0.2],autopct='%1.1f%%',ax=ax[0],shadow=True)\n",
    "titanic_data['Survived'][titanic_data['People_Class'] == 'Woman'].value_counts().plot.pie(explode=[0,0.2],autopct='%1.1f%%',ax=ax[1],shadow=True)\n",
    "titanic_data['Survived'][titanic_data['People_Class'] == 'Children'].value_counts().plot.pie(explode=[0,0.2],autopct='%1.1f%%',ax=ax[2],shadow=True)\n",
    "ax[0].set_title('Survived (Man)')\n",
    "ax[1].set_title('Survived (Woman)')\n",
    "ax[2].set_title('Survived (Children)')\n"
   ]
  },
  {
   "cell_type": "markdown",
   "metadata": {
    "id": "6MxgSC-qsgkv"
   },
   "source": [
    "**Observations:**\n",
    "- __76% of woman__ survived.\n",
    "- __57% of children__ also survived.\n",
    "- Only __16% of man__ survived."
   ]
  },
  {
   "cell_type": "code",
   "execution_count": null,
   "metadata": {
    "colab": {
     "base_uri": "https://localhost:8080/",
     "height": 67
    },
    "id": "W8Vd2itIsgkv",
    "outputId": "ea7df62d-8340-4d84-bcad-e7135189ae87"
   },
   "outputs": [],
   "source": [
    "titanic_data['Survived'][titanic_data['People_Class'] == 'Man'].value_counts()       #count of men survived and died"
   ]
  },
  {
   "cell_type": "code",
   "execution_count": null,
   "metadata": {
    "colab": {
     "base_uri": "https://localhost:8080/",
     "height": 67
    },
    "id": "uYMz-BNpsgkx",
    "outputId": "133e2e0f-2472-4617-e104-d654e3d57e71"
   },
   "outputs": [],
   "source": [
    "titanic_data['Survived'][titanic_data['People_Class'] == 'Woman'].value_counts()     #count of women survived and died   "
   ]
  },
  {
   "cell_type": "code",
   "execution_count": null,
   "metadata": {
    "colab": {
     "base_uri": "https://localhost:8080/",
     "height": 34
    },
    "id": "q7uvzFtdsgkz",
    "outputId": "8e60dec9-ab0b-47a0-891e-f5a65c7e14d5"
   },
   "outputs": [],
   "source": [
    "(titanic_data.Survived==0).sum()                # Total no. of people died"
   ]
  },
  {
   "cell_type": "markdown",
   "metadata": {
    "id": "OYkcwRzrsgk0"
   },
   "source": [
    "Using __donut pie chart__ to see the relationship between __survival and gender__"
   ]
  },
  {
   "cell_type": "code",
   "execution_count": null,
   "metadata": {
    "id": "Nd-52vQnsgk1"
   },
   "outputs": [],
   "source": [
    "def func(pct, allvals):\n",
    "    absolute = int(pct/100.*np.sum(allvals))\n",
    "    return \"{:.1f}%\\n({:d} g)\".format(pct, absolute)"
   ]
  },
  {
   "cell_type": "code",
   "execution_count": null,
   "metadata": {
    "colab": {
     "base_uri": "https://localhost:8080/",
     "height": 504
    },
    "id": "f4inizlQsgk3",
    "outputId": "3a6ffe16-240d-434f-9888-5622682690ca"
   },
   "outputs": [],
   "source": [
    "import matplotlib.pyplot as plt\n",
    " \n",
    "# Make data: \n",
    "group_names=['Survived', 'Not Survived']\n",
    "group_size=[342,549]\n",
    "subgroup_names=['Survived.Men','Survived.Women','Not Survived.Men','Not Survived.Women']\n",
    "subgroup_size=[88,209,450,66]\n",
    " \n",
    "# Create colors\n",
    "a, b, c=[plt.cm.Blues, plt.cm.Reds, plt.cm.Greens]\n",
    " \n",
    "# First Ring (outside)\n",
    "fig, ax = plt.subplots()\n",
    "ax.axis('equal')\n",
    "mypie, _ = ax.pie(group_size, radius=1.3, labels=group_names, colors = ['yellowgreen', 'gold'])\n",
    "plt.setp( mypie, width=0.3, edgecolor='white')\n",
    "\n",
    "# wedges, texts, autotexts = ax.pie(group_size, autopct=lambda pct: func(pct, data),\n",
    "                                  #textprops=dict(color=\"w\"))\n",
    " \n",
    "# Second Ring (Inside)\n",
    "mypie2, _ = ax.pie(subgroup_size, radius=1.3-0.3, labels=subgroup_names, labeldistance=0.7, colors=[a(0.5), b(0.4), a(0.5), b(0.4)])\n",
    "plt.setp( mypie2, width=0.4, edgecolor='white')\n",
    "plt.margins(0,0)\n",
    "plt.title('Donut plot')\n",
    "# show it\n",
    "plt.show()\n"
   ]
  },
  {
   "cell_type": "markdown",
   "metadata": {
    "id": "BnxaK4xvsgk5"
   },
   "source": [
    "<a id=section403></a>"
   ]
  },
  {
   "cell_type": "markdown",
   "metadata": {
    "id": "W-81tQcXsgk5"
   },
   "source": [
    "### 6.4. What is the rate of survival of men, women and children on the basis of Passenger Class?"
   ]
  },
  {
   "cell_type": "markdown",
   "metadata": {
    "id": "F7e3bYY9sgk6"
   },
   "source": [
    "- Using mathematical function"
   ]
  },
  {
   "cell_type": "code",
   "execution_count": null,
   "metadata": {
    "colab": {
     "base_uri": "https://localhost:8080/",
     "height": 84
    },
    "id": "ajlZpiUWsgk7",
    "outputId": "012c7664-190c-4a1f-8a3a-b041ef93e7d5"
   },
   "outputs": [],
   "source": [
    "print(\"% of survivals in\") \n",
    "print(\"Ticket_Class=1 : \", titanic_data.Survived[titanic_data.Ticket_Class == 1].sum()/titanic_data[titanic_data.Ticket_Class == 1].Survived.count())\n",
    "print(\"Ticket_Class=2 : \", titanic_data.Survived[titanic_data.Ticket_Class == 2].sum()/titanic_data[titanic_data.Ticket_Class == 2].Survived.count())\n",
    "print(\"Ticket_Class=3 : \", titanic_data.Survived[titanic_data.Ticket_Class == 3].sum()/titanic_data[titanic_data.Ticket_Class == 3].Survived.count())"
   ]
  },
  {
   "cell_type": "markdown",
   "metadata": {
    "id": "8gENEk1tsgk-"
   },
   "source": [
    "- Using crosstab function"
   ]
  },
  {
   "cell_type": "code",
   "execution_count": null,
   "metadata": {
    "colab": {
     "base_uri": "https://localhost:8080/",
     "height": 198
    },
    "id": "wTKsajblsgk-",
    "outputId": "a5a96a76-ff0f-4628-b426-69467eb1f80d"
   },
   "outputs": [],
   "source": [
    "pd.crosstab([titanic_data.People_Class, titanic_data.Survived], titanic_data.Ticket_Class, margins=True).apply(lambda r: 100*r/len(titanic_data), axis=1).style.background_gradient(cmap='autumn_r')"
   ]
  },
  {
   "cell_type": "markdown",
   "metadata": {
    "id": "DfeqgF86sglA"
   },
   "source": [
    "You can see how the percentage of males, females and children survived are varying depending on the passenger class they are in. Also, its quiet difficult to develop quick insights by looking only at numbers. Therefore we will explore doing the same with the help of __plotting.__"
   ]
  },
  {
   "cell_type": "markdown",
   "metadata": {
    "id": "7pmExzDxsglA"
   },
   "source": [
    "- Using __violin plot__ to see the relationship between __Pclass and Survived__"
   ]
  },
  {
   "cell_type": "code",
   "execution_count": null,
   "metadata": {
    "colab": {
     "base_uri": "https://localhost:8080/",
     "height": 539
    },
    "id": "qmdk2_GEsglB",
    "outputId": "1db29fb1-5d0c-4072-cae8-9e75238656a4"
   },
   "outputs": [],
   "source": [
    "sns.violinplot('Ticket_Class','Survived', kind='point', data = titanic_data)\n",
    "plt.title('Violinplot Ticket_Class Vs Survived')\n",
    "plt.show()"
   ]
  },
  {
   "cell_type": "markdown",
   "metadata": {
    "id": "f2uml5q_sglD"
   },
   "source": [
    "Above is another beautiful way to see how the survival rate is varying with Passenger class.\n",
    "\n",
    "**Observations:**\n",
    "\n",
    "- __Ticket_Class 3__ have __more__ people who __died__, and for __Ticket_Class 1 survival rate is more.__"
   ]
  },
  {
   "cell_type": "markdown",
   "metadata": {
    "id": "R2vLoJxWsglD"
   },
   "source": [
    " Drawing __factorplot__ to look at the __distribution of population__ with __Ticket_Class and People_Class.__"
   ]
  },
  {
   "cell_type": "code",
   "execution_count": null,
   "metadata": {
    "colab": {
     "base_uri": "https://localhost:8080/",
     "height": 598
    },
    "id": "AfnE4KGYsglD",
    "outputId": "74371a2e-bf76-469d-f24f-f139a605bfac"
   },
   "outputs": [],
   "source": [
    "sns.factorplot('Ticket_Class', data=titanic_data, hue='People_Class', kind='count')\n",
    "plt.title('Factorplot with kind = \"count\" for Ticket_Class and People_Class')"
   ]
  },
  {
   "cell_type": "markdown",
   "metadata": {
    "id": "7c7ZbQCzsglF"
   },
   "source": [
    "**Observations:**\n",
    "\n",
    "1. __Ticket_Class__ have _maximum_ number of __males__\n",
    "2. __Ticket_Class__ have _minimum_ number of __children__."
   ]
  },
  {
   "cell_type": "markdown",
   "metadata": {
    "id": "xotN5FKbsglF"
   },
   "source": [
    "- using factorplot to see the variation of __surviavl rate with Ticket_Class and People_Class.__"
   ]
  },
  {
   "cell_type": "code",
   "execution_count": null,
   "metadata": {
    "colab": {
     "base_uri": "https://localhost:8080/",
     "height": 598
    },
    "id": "Gpp-9ipjsglG",
    "outputId": "9a78aba8-f351-48f1-df24-a2b7189e1788"
   },
   "outputs": [],
   "source": [
    "sns.factorplot('Ticket_Class','Survived', data=titanic_data, hue='People_Class')\n",
    "plt.title('Factorplot for Survivale rate variation with Ticket_class and People_Class')"
   ]
  },
  {
   "cell_type": "markdown",
   "metadata": {
    "id": "fPBjraXIsglH"
   },
   "source": [
    "**Observations:**\n",
    "\n",
    "1. the survival rate for a man is very __low__ _irrespective of the class_ he belongs to. \n",
    "2. And, the survival rate is _less_ for all the _3rd class passengers._\n",
    "3. __Almost all women__ in Ticket_Class __1 and 2 survived__ and __nearly all men__ in Ticket_Class __2 and 3 died.__"
   ]
  },
  {
   "cell_type": "markdown",
   "metadata": {
    "id": "Z3oAg821YEcO"
   },
   "source": [
    "### 6.5. How is Age related to Ticket_Class ?"
   ]
  },
  {
   "cell_type": "code",
   "execution_count": null,
   "metadata": {
    "colab": {
     "base_uri": "https://localhost:8080/",
     "height": 649
    },
    "id": "LyJcMLBxYY5P",
    "outputId": "56e8f859-b9af-4a8f-860f-d1dba106d4fb"
   },
   "outputs": [],
   "source": [
    "plt.figure(figsize=(12, 7))\n",
    "sns.boxplot(x='Ticket_Class',y='Age',data=titanic_data,palette='winter')"
   ]
  },
  {
   "cell_type": "markdown",
   "metadata": {
    "id": "VLrzONIWYoY-"
   },
   "source": [
    "- We can see the wealthier passengers in the higher classes tend to be higher in age"
   ]
  },
  {
   "cell_type": "markdown",
   "metadata": {
    "id": "X5PFIDfXf5jG"
   },
   "source": [
    "### 6.6.  How fare is related to Age, Class and Port of Embarkation ?"
   ]
  },
  {
   "cell_type": "markdown",
   "metadata": {
    "id": "T9lF263WgIbN"
   },
   "source": [
    "- Let’s see how Fare varies with respect to Age and Port of Embarkation. I will do a scatterplot of passengers from 3 classes for Age and Fare on X and Y axis."
   ]
  },
  {
   "cell_type": "code",
   "execution_count": null,
   "metadata": {
    "colab": {
     "base_uri": "https://localhost:8080/",
     "height": 540
    },
    "id": "1keFaHbbgGyM",
    "outputId": "58714915-4d4c-46e9-bc1d-40b03b2853dc"
   },
   "outputs": [],
   "source": [
    "sns.lmplot('Age', 'Fare', data=titanic_data, fit_reg=False, hue=\"Ticket_Class\", scatter_kws={\"marker\": \".\", \"s\": 20})\n",
    "plt.title('Scatterplot of passengers w.r.t Fare and Age')"
   ]
  },
  {
   "cell_type": "markdown",
   "metadata": {
    "id": "20U0nGBOnTAd"
   },
   "source": [
    "- We can segregate the passengers according to thier Port of Embarkation and then compare Fare v/s Age across 3 classes."
   ]
  },
  {
   "cell_type": "code",
   "execution_count": null,
   "metadata": {
    "colab": {
     "base_uri": "https://localhost:8080/",
     "height": 376
    },
    "id": "3TCZQpIPpqSN",
    "outputId": "f2015b12-4ee4-4127-8829-44b8566fe2f1"
   },
   "outputs": [],
   "source": [
    "sns.lmplot('Age', 'Fare', data=titanic_data, fit_reg=False, hue=\"Ticket_Class\", col=\"Embarked\", scatter_kws={\"marker\": \".\", \"s\": 20})\n",
    "plt.subplots_adjust(top=0.9)\n",
    "plt.suptitle('Scatterplot of passengers w.r.t Fare and Age for diff. ports', fontsize=16)"
   ]
  },
  {
   "cell_type": "markdown",
   "metadata": {
    "id": "u9vaMVSpqX6s"
   },
   "source": [
    " **Observations:**\n",
    "- From above visualization we can see that Fare is quite uniform for **Class 2 and 3** across all **ages**. \n",
    "- Fare varies for **Class 1** across all ages.\n",
    "- A lot of passengers embarked from port **Southampton**"
   ]
  },
  {
   "cell_type": "markdown",
   "metadata": {
    "id": "6hBfhNTQsglH"
   },
   "source": [
    "### 6.7. What is the survival rate considering the Embarked variable?"
   ]
  },
  {
   "cell_type": "markdown",
   "metadata": {
    "id": "YiRE65dlsglI"
   },
   "source": [
    "- Using countplot "
   ]
  },
  {
   "cell_type": "code",
   "execution_count": null,
   "metadata": {
    "colab": {
     "base_uri": "https://localhost:8080/",
     "height": 534
    },
    "id": "xhrAd16dsglI",
    "outputId": "6b260c3d-0a20-422a-cde2-457ad4845430"
   },
   "outputs": [],
   "source": [
    "sns.countplot('Embarked',data=titanic_data, hue='Survived')"
   ]
  },
  {
   "cell_type": "markdown",
   "metadata": {
    "id": "nM5QUf-csglK"
   },
   "source": [
    "**Observations:**\n",
    "\n",
    "1. __Maximum___ number of people have __Southampton__ as port of embarkment. \n",
    "2. Also observe people who boarded at _Cherbourg_, _more_ people _survived than died_, and this is reverse for Queenstown."
   ]
  },
  {
   "cell_type": "markdown",
   "metadata": {
    "id": "2qIPomvlsglK"
   },
   "source": [
    "- Using __factorplot__ and __kind = 'point'__"
   ]
  },
  {
   "cell_type": "code",
   "execution_count": null,
   "metadata": {
    "_cell_guid": "9c55a6cd-cb3e-490b-b272-489252eaf55e",
    "_uuid": "805776505e93b1fd06f25f43e6400c6377131320",
    "colab": {
     "base_uri": "https://localhost:8080/",
     "height": 577
    },
    "id": "E3iY4Y3vsglK",
    "outputId": "31c00622-ee76-49c1-940a-f8b176030112"
   },
   "outputs": [],
   "source": [
    "sns.factorplot('Embarked','Survived', kind='point', data = titanic_data)\n",
    "plt.title('Factorplot for Embarked and Survived')\n",
    "plt.show()"
   ]
  },
  {
   "cell_type": "markdown",
   "metadata": {
    "id": "WgkE64fPsglM"
   },
   "source": [
    "<a id=section405></a>"
   ]
  },
  {
   "cell_type": "markdown",
   "metadata": {
    "id": "E05htjPosglM"
   },
   "source": [
    "### 6.8. Survival rate - Comparing Embarked and People_Class."
   ]
  },
  {
   "cell_type": "markdown",
   "metadata": {
    "id": "3NoDILZ-sglM"
   },
   "source": [
    "- Distribution of _People_Class_ with respect to _Port of Embarkment_ using __Countplot__."
   ]
  },
  {
   "cell_type": "code",
   "execution_count": null,
   "metadata": {
    "colab": {
     "base_uri": "https://localhost:8080/",
     "height": 534
    },
    "id": "wMq0CfBMsglM",
    "outputId": "a195042f-bc1e-425a-d707-36882ed05ea2"
   },
   "outputs": [],
   "source": [
    "sns.countplot('Embarked',data=titanic_data, hue='People_Class')"
   ]
  },
  {
   "cell_type": "markdown",
   "metadata": {
    "id": "j9dnk3hmsglP"
   },
   "source": [
    "**Observations:**\n",
    "\n",
    "- Most of the people boarded from __S__, Also among all who boarded, __man__ constitutes the __majority__ of percentage."
   ]
  },
  {
   "cell_type": "markdown",
   "metadata": {
    "id": "AbgdvaBxsglP"
   },
   "source": [
    "- Using Factorplot to see variation of __survival rate with port of embarkment and People_Class__"
   ]
  },
  {
   "cell_type": "code",
   "execution_count": null,
   "metadata": {
    "_cell_guid": "259c13c1-5d2c-4549-95ed-61baa9d2a6c1",
    "_uuid": "f9d1d2137f0ce7a8ac1ef9d3bf1f3225dbcbdaf4",
    "colab": {
     "base_uri": "https://localhost:8080/",
     "height": 577
    },
    "id": "zpVzFgh-sglP",
    "outputId": "1574329c-500d-470f-837c-3a8944e7a69e"
   },
   "outputs": [],
   "source": [
    "sns.factorplot('Embarked','Survived', hue= 'People_Class', kind='point', data= titanic_data)\n",
    "plt.title('Factor plot showing survival rate variation with Embarked and People_Class ')\n",
    "plt.show()"
   ]
  },
  {
   "cell_type": "markdown",
   "metadata": {
    "id": "mQH7_sy9sglR"
   },
   "source": [
    "**Observations:**\n",
    "\n",
    "- Chances of survival of __Woman__ who boarded from __C__ is _highest_.\n",
    "- Chances of survival of __Man__ boarding from __Q__ is _lowest_"
   ]
  },
  {
   "cell_type": "markdown",
   "metadata": {
    "id": "76iOnCmhsglS"
   },
   "source": [
    "### 6.9. How survival rate vary with Embarked, Sex and Ticket_Class."
   ]
  },
  {
   "cell_type": "markdown",
   "metadata": {
    "id": "F5bj54ZAsglU"
   },
   "source": [
    "Seeing relation between Ticket_Class and Embarked."
   ]
  },
  {
   "cell_type": "code",
   "execution_count": null,
   "metadata": {
    "colab": {
     "base_uri": "https://localhost:8080/",
     "height": 455
    },
    "id": "fnAdES4ZsglU",
    "outputId": "8315b9c2-544f-49f0-85e2-002fe1a1544c"
   },
   "outputs": [],
   "source": [
    "relation = pd.crosstab( titanic_data.Embarked, titanic_data.Ticket_Class )\n",
    "relation.plot.barh(figsize=(15,5))\n",
    "plt.xticks(size = 10)\n",
    "plt.yticks(size = 10)\n",
    "plt.title('Relation Between Ticket_Class and Embarked',size=20)"
   ]
  },
  {
   "cell_type": "markdown",
   "metadata": {
    "id": "5XLEUwbrsglV"
   },
   "source": [
    "**Observations:**\n",
    "\n",
    "- Maximum people who boarded from __S__ belongs to __Ticket_Class 3__.<br/>\n",
    "- Most of the passengers belonging to __Ticket_Class 1__ boarded from __C and S__  \n"
   ]
  },
  {
   "cell_type": "code",
   "execution_count": null,
   "metadata": {
    "colab": {
     "base_uri": "https://localhost:8080/",
     "height": 514
    },
    "id": "X_TxaTBGsglW",
    "outputId": "50d12e22-162a-48bf-9b6a-0e36b9c60e37"
   },
   "outputs": [],
   "source": [
    "dummy = relation.div(relation.sum(1).astype(float), axis=0).plot(kind=\"bar\", stacked=True)\n",
    "dummy = plt.xlabel('Emabarked')"
   ]
  },
  {
   "cell_type": "markdown",
   "metadata": {
    "id": "9MXd0ahzsglY"
   },
   "source": [
    "- Using Swarmplot"
   ]
  },
  {
   "cell_type": "code",
   "execution_count": null,
   "metadata": {
    "colab": {
     "base_uri": "https://localhost:8080/",
     "height": 534
    },
    "id": "Qz9m5rdWsglZ",
    "outputId": "59715bd9-a776-4381-e4db-49d17d0024ee"
   },
   "outputs": [],
   "source": [
    "sns.set(style='whitegrid', palette='muted')\n",
    "sns.swarmplot(x=\"Embarked\", y=\"Age\", hue=\"People_Class\", palette=\"gnuplot\", data=titanic_data)"
   ]
  },
  {
   "cell_type": "markdown",
   "metadata": {
    "id": "OyY39Zszsgla"
   },
   "source": [
    "- Using factorplot with kind = 'point'"
   ]
  },
  {
   "cell_type": "code",
   "execution_count": null,
   "metadata": {
    "_cell_guid": "dc3d169f-b2e8-4df8-b4e6-dced76b43bee",
    "_uuid": "a1f54e702d6fe53ef1f60032469d24d956cb366a",
    "colab": {
     "base_uri": "https://localhost:8080/",
     "height": 406
    },
    "id": "fCZOnQ8bsglb",
    "outputId": "7660cd52-33e2-4c2e-9680-bb14022b3380"
   },
   "outputs": [],
   "source": [
    "sns.factorplot('Embarked','Survived', col='Ticket_Class', hue= 'People_Class', kind='point', data = titanic_data)\n",
    "plt.show()"
   ]
  },
  {
   "cell_type": "markdown",
   "metadata": {
    "id": "YYaPhcEjsgld"
   },
   "source": [
    "**Observations:**\n",
    "\n",
    "- Practically all _women_ of __Ticket_Class 2__ that embarked in __C and Q survived__, also nearly all _women_ of __Ticket_Class 1__ survived_.\n",
    "- All _men_ of __Ticket_Class 1 and 2__ embarked in __Q died__, survival rate for men in __Ticket_Class 2 and 3__ is always __below 0.2__.\n",
    "- For the remaining men in Ticket_class 1 that embarked in S and Q, survival rate is approx. __0.4__"
   ]
  },
  {
   "cell_type": "markdown",
   "metadata": {
    "id": "vSFFkaHtsgld"
   },
   "source": [
    "<a id=section407></a>"
   ]
  },
  {
   "cell_type": "markdown",
   "metadata": {
    "id": "LXnmS07Wsgld"
   },
   "source": [
    "### 6.10. Segment age in bins with size 10."
   ]
  },
  {
   "cell_type": "code",
   "execution_count": null,
   "metadata": {
    "_cell_guid": "4f536aeb-8f8b-4b6d-8020-adef0f25b22c",
    "_uuid": "08da3a287de8af95a4ca012c42fd14dc02554815",
    "id": "9CayrnTEsgle"
   },
   "outputs": [],
   "source": [
    "for i in range(8,0,-1):\n",
    "        titanic_data.loc[ titanic_data['Age'] <= i*10, 'Age_bin'] = i"
   ]
  },
  {
   "cell_type": "code",
   "execution_count": null,
   "metadata": {
    "_cell_guid": "5afbb91b-4407-45b4-81e3-7cf112ddb489",
    "_uuid": "4b41dd56f41faff7a762cf1fb0d180f4b113ad26",
    "colab": {
     "base_uri": "https://localhost:8080/",
     "height": 202
    },
    "id": "5iR2mE_usglf",
    "outputId": "283d3bf0-5ffe-4357-dcc0-9d828ea46615"
   },
   "outputs": [],
   "source": [
    "print(titanic_data[['Age' , 'Age_bin']].head(10))"
   ]
  },
  {
   "cell_type": "code",
   "execution_count": null,
   "metadata": {
    "colab": {
     "base_uri": "https://localhost:8080/",
     "height": 534
    },
    "id": "DL2XAihGsglh",
    "outputId": "61ecf593-754a-4634-8d15-26b80ff7d381"
   },
   "outputs": [],
   "source": [
    "titanic_data.plot.hexbin(x='Age_bin', y='Survived', gridsize=12)"
   ]
  },
  {
   "cell_type": "markdown",
   "metadata": {
    "id": "L99SnIrqsglj"
   },
   "source": [
    "Comparing count of those who survived and died with respect to the Age_bin they are in.\n",
    "- __Age_bin 1__: As you can see hexagon for Survived( 1.0 ) is darker than Died(0.0), means __more children survived than died__.\n",
    "- __Age_bin 3__: __More died than survived__, Also count of survived is highest among all age bins ( see horizontaly along Survived = 1.0 ) , means maximum people who boarded Titanic were from this age group. \n",
    "- __Age_bin >4__: More people died than survived."
   ]
  },
  {
   "cell_type": "code",
   "execution_count": null,
   "metadata": {
    "colab": {
     "base_uri": "https://localhost:8080/",
     "height": 517
    },
    "id": "AXKstKtfsglj",
    "outputId": "0a725c56-151d-4480-eaab-af9c96f880e9"
   },
   "outputs": [],
   "source": [
    "sns.barplot(x = \"Age_bin\", y = \"Survived\", hue = \"Ticket_Class\", data = titanic_data)\n",
    "plt.show()"
   ]
  },
  {
   "cell_type": "markdown",
   "metadata": {
    "id": "-9JgswaLsgll"
   },
   "source": [
    "- Calculating number of people of Age_bin = 1 and 8 from each Ticket_class."
   ]
  },
  {
   "cell_type": "code",
   "execution_count": null,
   "metadata": {
    "colab": {
     "base_uri": "https://localhost:8080/",
     "height": 84
    },
    "id": "JO5XsWyrsgll",
    "outputId": "fad926ab-7654-45ba-f6ed-e84099d70edd"
   },
   "outputs": [],
   "source": [
    "titanic_data[(titanic_data.Age_bin == 1)]['Ticket_Class'].value_counts()"
   ]
  },
  {
   "cell_type": "code",
   "execution_count": null,
   "metadata": {
    "colab": {
     "base_uri": "https://localhost:8080/",
     "height": 84
    },
    "id": "eH2nA3R6sglm",
    "outputId": "2c2e9899-7734-4783-a76b-0406f4bfb78e"
   },
   "outputs": [],
   "source": [
    "titanic_data[(titanic_data.Age_bin == 1)&(titanic_data.Ticket_Class == 1)]['Survived']"
   ]
  },
  {
   "cell_type": "code",
   "execution_count": null,
   "metadata": {
    "colab": {
     "base_uri": "https://localhost:8080/",
     "height": 67
    },
    "id": "zNJ2LGTNsgln",
    "outputId": "e0abce60-8866-4f1d-cc7c-70b3d3611392"
   },
   "outputs": [],
   "source": [
    "titanic_data[(titanic_data.Age_bin == 8)]['Ticket_Class'].value_counts()"
   ]
  },
  {
   "cell_type": "markdown",
   "metadata": {
    "id": "COqnrgqnsglo"
   },
   "source": [
    "**Observations:**\n",
    "\n",
    "- Among children of __age 0-10 yrs__ we dont have enough data points(3) in Ticket_Class 1, therefore __discarding it__ (blue line of Age_bin 1)<br/>\n",
    "- Also number of passengers belonging to age group __70-80 yrs__, is very less, therefore __ignoring them.__<br/>\n",
    "- In __each Ticket_Class__, we can see that the probability of survivying of __small children(Age = 0-10 yrs)__ is _higher_ than rest age group.<br/>\n",
    "- In every Age_bin(ignoring Ticket_Class 1 of first, and last Age_bin), __survival probability is highest for Ticket_Class 1 and lowest for Ticket_Class 3.__"
   ]
  },
  {
   "cell_type": "code",
   "execution_count": null,
   "metadata": {
    "_cell_guid": "d0d60033-5a87-44ec-89d1-45f48bea213e",
    "_uuid": "546efacb21995beea817894c7616bc24950d1f8e",
    "colab": {
     "base_uri": "https://localhost:8080/",
     "height": 554
    },
    "id": "T6RKlZjpsglp",
    "outputId": "06da1790-ef0e-4856-b3df-7e9405594efa"
   },
   "outputs": [],
   "source": [
    "sns.factorplot('Age_bin','Survived',hue='Sex',kind='point',data=titanic_data)\n",
    "plt.show()"
   ]
  },
  {
   "cell_type": "markdown",
   "metadata": {
    "id": "v6FpixYLsglq"
   },
   "source": [
    "**Observations:**\n",
    "\n",
    "- Its clear from the above graph that among people of all the ages, __females__ in general have __higher probability of survival than males__."
   ]
  },
  {
   "cell_type": "code",
   "execution_count": null,
   "metadata": {
    "_cell_guid": "472167a5-72cf-4ba9-be0b-7ff17e161702",
    "_uuid": "a234b585b5826c2cb32631c105e841fc5e6e8362",
    "colab": {
     "base_uri": "https://localhost:8080/",
     "height": 809
    },
    "id": "xKFnjR9csglq",
    "outputId": "767f27af-5c5a-4116-c607-fcec7cd01927"
   },
   "outputs": [],
   "source": [
    "sns.factorplot('Age_bin','Survived', col='Ticket_Class' , row = 'Sex', kind='point', data=titanic_data)\n",
    "plt.show()"
   ]
  },
  {
   "cell_type": "markdown",
   "metadata": {
    "id": "YJrmQRH8sgls"
   },
   "source": [
    "Calculating number of females from each Ticket_Class in age group 1."
   ]
  },
  {
   "cell_type": "code",
   "execution_count": null,
   "metadata": {
    "colab": {
     "base_uri": "https://localhost:8080/",
     "height": 84
    },
    "id": "RRbU0Blksgls",
    "outputId": "b32e1811-4e02-4a73-8f32-ae613c4292a5"
   },
   "outputs": [],
   "source": [
    "titanic_data[(titanic_data.Age_bin == 1) & (titanic_data.Sex =='female')]['Ticket_Class'].value_counts()"
   ]
  },
  {
   "cell_type": "markdown",
   "metadata": {
    "id": "XRHSXGGssglu"
   },
   "source": [
    "From the factor plot:<br/>\n",
    "- Among __males__, probability of survival of __children__ is _higher_ than rest age groups.<br/>\n",
    "- In general for males, as __Ticket_Class increases, survival probability decreases.__\n",
    "- Among female children (Age_bin == 1), there is only 1 girl, therfore _discarding_ this.<br/>\n",
    "- For the rest of the females, as _Ticket_Class increases_, _survival probability decreases._<br/>\n",
    "- You can also see survival rate within each Pclass for males and females."
   ]
  },
  {
   "cell_type": "markdown",
   "metadata": {
    "id": "qrlZI8zMsglu"
   },
   "source": [
    "<a id=section408></a>"
   ]
  },
  {
   "cell_type": "markdown",
   "metadata": {
    "id": "QIMkqCN2sglu"
   },
   "source": [
    "### 6.11. Analysing survival rate with FamilySize."
   ]
  },
  {
   "cell_type": "markdown",
   "metadata": {
    "id": "0297TV6Ysglu"
   },
   "source": [
    "- Using __factorplot__ to know the survival rate on the basis of __FamilySize__."
   ]
  },
  {
   "cell_type": "code",
   "execution_count": null,
   "metadata": {
    "colab": {
     "base_uri": "https://localhost:8080/",
     "height": 727
    },
    "id": "VWS1ZQyPsglv",
    "outputId": "3ab9d639-c645-4c83-a9d8-28a67eb84b1f"
   },
   "outputs": [],
   "source": [
    "ax = sns.factorplot(x='FamilySize', y='Survived', data=titanic_data, kind='violin', aspect=1.5, size=6, palette=\"Greens\")\n",
    "ax.set(ylabel='Percent of Passengers')\n",
    "plt.title('Survival by Total Family Size')"
   ]
  },
  {
   "cell_type": "markdown",
   "metadata": {
    "id": "uhoeEqF2sglx"
   },
   "source": [
    "**Observations:**\n",
    "\n",
    "- As __size of family increases__ its chances of survival also __increases__."
   ]
  },
  {
   "cell_type": "markdown",
   "metadata": {
    "id": "Wvjhix8Ksglx"
   },
   "source": [
    "<a id=section409></a>"
   ]
  },
  {
   "cell_type": "markdown",
   "metadata": {
    "_cell_guid": "b70366e6-40cd-4b49-be28-d9c6e24b7a91",
    "_uuid": "9be20e55154d523983caa038da053b52e16c0231",
    "id": "qKbvjlnbsglx"
   },
   "source": [
    "### 6.12. Segment fare in bins of size 12."
   ]
  },
  {
   "cell_type": "markdown",
   "metadata": {
    "id": "FAxxNxZ3sgly"
   },
   "source": [
    "- Using Distplot to see the distribution of __Fare__. "
   ]
  },
  {
   "cell_type": "code",
   "execution_count": null,
   "metadata": {
    "_cell_guid": "175cc9dd-f96e-47c3-9516-e32d01c28aa3",
    "_uuid": "2bde44c43067232fb1a2ef8deff227374c6eab3a",
    "colab": {
     "base_uri": "https://localhost:8080/",
     "height": 539
    },
    "id": "OJgqdL6Csgly",
    "outputId": "2530e492-3517-44c9-dad1-90ccc3f0daa9"
   },
   "outputs": [],
   "source": [
    "sns.distplot(titanic_data['Fare'],color ='g')\n",
    "plt.title('Distribution of Fare')\n",
    "plt.show()"
   ]
  },
  {
   "cell_type": "markdown",
   "metadata": {
    "id": "8Y_qaPPTsglz"
   },
   "source": [
    "**Observations:**\n",
    "\n",
    "- We have seen that __'Fare'__ mostly varies between __10 and 90.__ We will use this information to create bins."
   ]
  },
  {
   "cell_type": "markdown",
   "metadata": {
    "id": "7bw_3gdDsglz"
   },
   "source": [
    "- Creating a new column named __'Fare_bin'__ based on 12 interval ranges in 'Fare' as __12 bins.__"
   ]
  },
  {
   "cell_type": "code",
   "execution_count": null,
   "metadata": {
    "_cell_guid": "8a24e3c4-ea4e-4558-b9f4-d21eff1a5bf0",
    "_uuid": "7c0b70efca4ecaafbefecdfdcb81868c5221b505",
    "id": "gTys5t9Psglz"
   },
   "outputs": [],
   "source": [
    "for i in range(12,0,-1):\n",
    "    titanic_data.loc[titanic_data['Fare'] <= i*10, 'Fare_bin'] = i\n",
    "titanic_data.loc[titanic_data['Fare'] >110, 'Fare_bin']= 12"
   ]
  },
  {
   "cell_type": "code",
   "execution_count": null,
   "metadata": {
    "colab": {
     "base_uri": "https://localhost:8080/",
     "height": 252
    },
    "id": "PG7C866usgl0",
    "outputId": "e88db886-7f80-410e-a928-dfc90dc3e55b"
   },
   "outputs": [],
   "source": [
    "print(titanic_data[['Fare' , 'Fare_bin']].groupby('Fare_bin')['Fare'].count())"
   ]
  },
  {
   "cell_type": "markdown",
   "metadata": {
    "id": "ZmHImylasgl2"
   },
   "source": [
    "- Using __barplot__ to plot the relationship between __survival rate and Fare_bin and Pclass.__"
   ]
  },
  {
   "cell_type": "code",
   "execution_count": null,
   "metadata": {
    "colab": {
     "base_uri": "https://localhost:8080/",
     "height": 517
    },
    "id": "x8qoaCblsgl2",
    "outputId": "9217dfd2-6661-4e22-c59b-d2c69f35e587"
   },
   "outputs": [],
   "source": [
    "sns.barplot(x = \"Fare_bin\", y = \"Survived\", hue = \"Ticket_Class\", data = titanic_data)\n",
    "plt.show()"
   ]
  },
  {
   "cell_type": "markdown",
   "metadata": {
    "id": "ZeeFso3Xsgl3"
   },
   "source": [
    "**Observations:**\n",
    "\n",
    "- As __fare increases, survival chances also increases__.\n",
    "- Also __Ticket_Class 1__ (blue color) have __more chances to survive__ compared to other Ticket_Class."
   ]
  },
  {
   "cell_type": "markdown",
   "metadata": {
    "id": "R2VeqIk0sgl3"
   },
   "source": [
    "<a id=section410></a>"
   ]
  },
  {
   "cell_type": "markdown",
   "metadata": {
    "id": "mYS7twhtsgl3"
   },
   "source": [
    "### 6.13. Draw pair plot to know the joint relationship between 'Fare','Age','Ticket_Class' and 'Survived'"
   ]
  },
  {
   "cell_type": "code",
   "execution_count": null,
   "metadata": {
    "colab": {
     "base_uri": "https://localhost:8080/",
     "height": 798
    },
    "id": "mzmhEt04sgl4",
    "outputId": "2203bb31-69d8-4cfd-fcff-fdf73cc4c51c"
   },
   "outputs": [],
   "source": [
    "sns.pairplot(titanic_data[[\"Fare\",\"Age\",\"Ticket_Class\",\"Survived\"]],vars = [\"Fare\",\"Age\",\"Ticket_Class\"],hue=\"Survived\", dropna=True,markers=[\"o\", \"s\"])\n",
    "plt.title('Pair Plot')"
   ]
  },
  {
   "cell_type": "markdown",
   "metadata": {
    "id": "OPC9ouQksgl5"
   },
   "source": [
    "**Observations:**\n",
    "\n",
    "- More people of Ticket_Class 1 survived than died (First peak of red is higher than blue)\n",
    "- More people of Ticket_Class 3 died than survived (Third peak of blue is higher than red)\n",
    "- More people of age group 20-40 died than survived.\n",
    "- Most of the people paying less fare died."
   ]
  },
  {
   "cell_type": "markdown",
   "metadata": {
    "id": "fPfUQgzXsgl5"
   },
   "source": [
    "<a id=section411></a>"
   ]
  },
  {
   "cell_type": "markdown",
   "metadata": {
    "id": "THuMQMYusgl5"
   },
   "source": [
    "### 6.14. Establish correlation between all the features using heatmap."
   ]
  },
  {
   "cell_type": "code",
   "execution_count": null,
   "metadata": {
    "colab": {
     "base_uri": "https://localhost:8080/",
     "height": 866
    },
    "id": "6fdZP1kCsgl5",
    "outputId": "5d978af0-e872-433e-e4a4-4fc8759c1ac2"
   },
   "outputs": [],
   "source": [
    "corr = titanic_data.corr()\n",
    "plt.figure(figsize=(10,10))\n",
    "sns.heatmap(corr,vmax=.8,linewidth=.01, square = True, annot = True,cmap='YlGnBu',linecolor ='black')\n",
    "plt.title('Correlation between features')"
   ]
  },
  {
   "cell_type": "markdown",
   "metadata": {
    "id": "KlX-jhjqsgl8"
   },
   "source": [
    "**Observations:**\n",
    "\n",
    "- __Age and Ticket_Class are negatively corelated with Survived.__\n",
    "- FamilySize is made from Parch and SibSb only therefore high positive corelation among them.\n",
    "- __Fare and FamilySize__ are __positively coorelated with Survived.__\n",
    "- With high corelation we face __redundancy__ issues."
   ]
  },
  {
   "cell_type": "markdown",
   "metadata": {
    "id": "4fuI8y1-sgl8"
   },
   "source": [
    "<a id=section412></a>"
   ]
  },
  {
   "cell_type": "markdown",
   "metadata": {
    "id": "QWkBxDDlsgl8"
   },
   "source": [
    "### 6.15. Hypothesis: Women and children are more likely to survive"
   ]
  },
  {
   "cell_type": "markdown",
   "metadata": {
    "id": "kOH0mz7ksgl9"
   },
   "source": [
    "On studying Questionnaire 6.4 and 6.5 we observed that an overwhelming percentage of __women & children__ have survived the titanic clash.\n",
    "- __76%__ of __woman__ survived.\n",
    "- __57%__ of __children__ also survived.\n",
    "- Only __16%__ of __man__ survived.<br/>\n",
    "Also the survival rate for man is very low irrespective of the _class_ he belongs to and the _survival rate is less_ for all the _3rd class passengers._ Almost all women in Ticket_Class 1 and 2 survived and nearly all men in Ticket_Class 2 and 3 died."
   ]
  },
  {
   "cell_type": "markdown",
   "metadata": {
    "id": "kjb92Y4Dsgl9"
   },
   "source": [
    "<a id=section5></a>"
   ]
  },
  {
   "cell_type": "markdown",
   "metadata": {
    "_cell_guid": "b003787b-c505-4a4c-9f43-230acc35c2f5",
    "_uuid": "ee26abaed914638118de10f1cc177184d38abd21",
    "id": "3aLkHZR5sgl9"
   },
   "source": [
    "## 7. Conclusion \n",
    "\n",
    "- With the help of this notebook we learnt how exploratory data analysis can be carried out using Pandas plotting.\n",
    "- Also we have seen making use of packages like __matplotlib and seaborn__ to develop better insights about the data.<br/>\n",
    "- We have also seen how __pre-proceesing__ helps in dealing with _missing_ values and irregualities present in the data. We also learnt how to _create new features_ which will in turn help us to better predict the survival. \n",
    "- We also make use of __pandas profiling__ feature to generate an html report containing all the information of the various features present in the dataset.\n",
    "- We have seen the impact of columns like _Age, Embarked, Fare, SibSp and Parch_ on the rate of survival.\n",
    "- The most important inference drawn from all this analysis is, we get to know what are the __features on which survival is highly positively and negatively correlated with.__ \n",
    "- This analysis will help us to choose which __machine learning model__ we can apply to predict survival of test dataset. "
   ]
  }
 ],
 "metadata": {
  "colab": {
   "collapsed_sections": [],
   "name": "EDAnotebookTitanicDataset.ipynb",
   "provenance": []
  },
  "kernelspec": {
   "display_name": "Python 3 (ipykernel)",
   "language": "python",
   "name": "python3"
  },
  "language_info": {
   "codemirror_mode": {
    "name": "ipython",
    "version": 3
   },
   "file_extension": ".py",
   "mimetype": "text/x-python",
   "name": "python",
   "nbconvert_exporter": "python",
   "pygments_lexer": "ipython3",
   "version": "3.8.3"
  }
 },
 "nbformat": 4,
 "nbformat_minor": 4
}
